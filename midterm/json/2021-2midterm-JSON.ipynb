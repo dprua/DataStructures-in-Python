{
 "cells": [
  {
   "cell_type": "markdown",
   "id": "44167401-2002-47db-988d-c05bec5e02c2",
   "metadata": {},
   "source": [
    "One thing I do know, I was blind but now I see. (John 9:25b)\n",
    "\n",
    "-------\n",
    "<img src=\"https://github.com/idebtor/DSpy/blob/6b3676c3de29f85d2e7f30679676d1fd96d88b17/images/WelcomeToDataStructures.jpg?raw=true\" width=1000>\n",
    "\n",
    "__NOTE:__ The following materials have been compiled and adapted from the numerous sources including my own. Please help me to keep this tutorial up-to-date by reporting any issues or questions. Send any comments or criticisms to `idebtor@gmail.com` Your assistances and comments will be appreciated.\n",
    "\n",
    "--------\n",
    "Honor Code: On my honour, I pledge that I have neither received nor provided improper assistance \n",
    "in the completion of this assignment. \n",
    "Signed: 박예겸 Student Number: 21600277"
   ]
  },
  {
   "cell_type": "markdown",
   "id": "fc89b8aa-b36a-46e9-bf5c-30e4ce8fa3d9",
   "metadata": {},
   "source": [
    "# Midterm - JSON (4.0p)\n",
    "\n",
    "## Step 1: `universities.json` 작성하기\n",
    "\n",
    "코드(텍스트) 편집기를 사용하여 아래의 내용을 가진 파일(`universities.json`)을 작성하십시오. \n",
    "```json\n",
    "[\n",
    "    {\n",
    "        \"name\": \"Big University\",\n",
    "        \"numberOfEmployee\": 10000,\n",
    "        \"ceo\": \"World\", \n",
    "        \"rating\": 3.9\n",
    "    },\n",
    "    {\n",
    "        \"name\": \"Small Start-up\",\n",
    "        \"numberOfEmployee\": 5, \n",
    "        \"ceo\": null, \n",
    "        \"rating\": 4.5\n",
    "    },\n",
    "    {\n",
    "        \"name\": \"handong global university\",\n",
    "        \"numberOfEmployee\": 5000, \n",
    "        \"ceo\": \"Holy Spirit\", \n",
    "        \"rating\": 5.0\n",
    "    }\n",
    "]\n",
    "```"
   ]
  },
  {
   "cell_type": "markdown",
   "id": "4df99c7b-09b7-49d8-8dae-ccf7151a7ac8",
   "metadata": {},
   "source": [
    "## Step 2: `universities.json` 읽고 출력하기 (1.0p)\n",
    "\n",
    "주어진 json text file을 읽고 아래와 같이 두 가지 format으로 출력하십시오. \n",
    "\n",
    "__Sample Run:__ \n",
    "```\n",
    "print(universities)\n",
    "```\n",
    "__Expected Output:__\n",
    "```\n",
    "[{'name': 'Big University', 'numberOfEmployee': 10000, 'ceo': 'June', 'rating': 3.9}, {'name': 'Small Start-up', 'numberOfEmployee': 5, 'ceo': None, 'rating': 4.5}, {'name': 'handong global university', 'numberOfEmployee': 5000, 'ceo': 'Holy Spirit', 'rating': 5.0}]\n",
    "\n",
    "[\n",
    "  {\n",
    "    \"ceo\": \"June\",\n",
    "    \"name\": \"Big University\",\n",
    "    \"numberOfEmployee\": 10000,\n",
    "    \"rating\": 3.9\n",
    "  },\n",
    "  {\n",
    "    \"ceo\": null,\n",
    "    \"name\": \"Small Start-up\",\n",
    "    \"numberOfEmployee\": 5,\n",
    "    \"rating\": 4.5\n",
    "  },\n",
    "  {\n",
    "    \"ceo\": \"Holy Spirit\",\n",
    "    \"name\": \"handong global university\",\n",
    "    \"numberOfEmployee\": 5000,\n",
    "    \"rating\": 5.0\n",
    "  }\n",
    "]\n",
    "```\n",
    "\n",
    "__Solution:__"
   ]
  },
  {
   "cell_type": "code",
   "execution_count": 47,
   "id": "d00de165-69c9-42bb-a1c3-454acddd25a2",
   "metadata": {},
   "outputs": [
    {
     "name": "stdout",
     "output_type": "stream",
     "text": [
      "[{'name': 'Big University', 'numberOfEmployee': 10000, 'ceo': 'June', 'rating': 3.9}, {'name': 'Small Start-up', 'numberOfEmployee': 5, 'ceo': None, 'rating': 4.5}, {'name': 'handong global university', 'numberOfEmployee': 5000, 'ceo': 'Holly Spirit', 'rating': 5.0}]\n",
      "[\n",
      "  {\n",
      "    \"ceo\": \"June\",\n",
      "    \"name\": \"Big University\",\n",
      "    \"numberOfEmployee\": 10000,\n",
      "    \"rating\": 3.9\n",
      "  },\n",
      "  {\n",
      "    \"ceo\": null,\n",
      "    \"name\": \"Small Start-up\",\n",
      "    \"numberOfEmployee\": 5,\n",
      "    \"rating\": 4.5\n",
      "  },\n",
      "  {\n",
      "    \"ceo\": \"Holly Spirit\",\n",
      "    \"name\": \"handong global university\",\n",
      "    \"numberOfEmployee\": 5000,\n",
      "    \"rating\": 5.0\n",
      "  }\n",
      "]\n"
     ]
    }
   ],
   "source": [
    "import json\n",
    "\n",
    "with open('universities.json') as f:\n",
    "    univiersities = json.load(f)\n",
    "    \n",
    "print(univiersities)\n",
    "string = json.dumps(univiersities, indent=2, sort_keys = True)\n",
    "print(string)"
   ]
  },
  {
   "cell_type": "markdown",
   "id": "1336f6f9-6c71-469f-afe9-0f72cf7f59e3",
   "metadata": {},
   "source": [
    "## Step 3: 학교 이름의 initials  (1.0p)\n",
    "\n",
    "* 각 학교의 이름에서 이니셜을 찾아서 리스트(`initials`)를 만들고 출력하십시오. \n",
    "\n",
    "__Sample Run:__ \n",
    "```\n",
    "print(initials)\n",
    "```\n",
    "__Expected Output:__\n",
    "```\n",
    "['BU', 'SS', 'HGU']\n",
    "```\n",
    "\n",
    "__Solution:__"
   ]
  },
  {
   "cell_type": "code",
   "execution_count": 48,
   "id": "849f40a2-55fe-4b59-8ef8-5fbab01c121c",
   "metadata": {},
   "outputs": [
    {
     "name": "stdout",
     "output_type": "stream",
     "text": [
      "['BU', 'SS', 'HGU']\n"
     ]
    }
   ],
   "source": [
    "initials = []\n",
    "\n",
    "for univ in univiersities:\n",
    "    data = univ['name']\n",
    "    temp = data.split(' ')\n",
    "    init = ''\n",
    "    for char in temp:\n",
    "        init += char[0].upper()\n",
    "    initials.append(init)\n",
    "print(initials)"
   ]
  },
  {
   "cell_type": "markdown",
   "id": "8d1a6999-d284-42c3-a1b9-43b4033ed905",
   "metadata": {},
   "source": [
    "## Step 4: 학교 Initial을 가진 json데이터 구조 만들기 (1.0p)\n",
    "\n",
    "* 각 학교의 이름에서 이니셜을 가진 json데이터 구조(`universities_new`)를 아래와 같이 만들고 두 가지 format으로 만드십시오. \n",
    "* 여기서 형성한 데이터 구조는 기존의 리스트(list of dictionaries)가 아니라 딕셔너리 타입(dict of dictionaries)인 것에 유의하십시오. 기존의 리스트 타입으로(list of dictionaries) 설정하는 것도 같습니다. "
   ]
  },
  {
   "cell_type": "markdown",
   "id": "9f5d42e9-0727-4ae7-b690-884b50f4afeb",
   "metadata": {},
   "source": [
    "__Sample Run:__ \n",
    "```\n",
    "print(universities_new)\n",
    "print(None)    # your code here\n",
    "```\n",
    "__Expected Output:__\n",
    "```\n",
    "{'BU': {'name': 'Big University', 'numberOfEmployee': 10000, 'ceo': 'June', 'rating': 3.9}, 'SS': {'name': 'Small Start-up', 'numberOfEmployee': 5, 'ceo': None, 'rating': 4.5}, 'HGU': {'name': 'handong global university', 'numberOfEmployee': 5000, 'ceo': 'Holy Spirit', 'rating': 5.0}}\n",
    "\n",
    "{\n",
    "  \"BU\": {\n",
    "    \"ceo\": \"June\",\n",
    "    \"name\": \"Big University\",\n",
    "    \"numberOfEmployee\": 10000,\n",
    "    \"rating\": 3.9\n",
    "  },\n",
    "  \"HGU\": {\n",
    "    \"ceo\": \"Holy Spirit\",\n",
    "    \"name\": \"handong global university\",\n",
    "    \"numberOfEmployee\": 5000,\n",
    "    \"rating\": 5.0\n",
    "  },\n",
    "  \"SS\": {\n",
    "    \"ceo\": null,\n",
    "    \"name\": \"Small Start-up\",\n",
    "    \"numberOfEmployee\": 5,\n",
    "    \"rating\": 4.5\n",
    "  }\n",
    "}\n",
    "```\n",
    "\n",
    "__Solution:__"
   ]
  },
  {
   "cell_type": "code",
   "execution_count": 49,
   "id": "9aed2ebc-f3e1-4205-a0cd-aaf52af19658",
   "metadata": {},
   "outputs": [
    {
     "name": "stdout",
     "output_type": "stream",
     "text": [
      "{'BU': {'name': 'Big University', 'numberOfEmployee': 10000, 'ceo': 'June', 'rating': 3.9}, 'SS': {'name': 'Small Start-up', 'numberOfEmployee': 5, 'ceo': None, 'rating': 4.5}, 'HGU': {'name': 'handong global university', 'numberOfEmployee': 5000, 'ceo': 'Holly Spirit', 'rating': 5.0}}\n",
      "\n",
      "{\n",
      "  \"BU\": {\n",
      "    \"ceo\": \"June\",\n",
      "    \"name\": \"Big University\",\n",
      "    \"numberOfEmployee\": 10000,\n",
      "    \"rating\": 3.9\n",
      "  },\n",
      "  \"HGU\": {\n",
      "    \"ceo\": \"Holly Spirit\",\n",
      "    \"name\": \"handong global university\",\n",
      "    \"numberOfEmployee\": 5000,\n",
      "    \"rating\": 5.0\n",
      "  },\n",
      "  \"SS\": {\n",
      "    \"ceo\": null,\n",
      "    \"name\": \"Small Start-up\",\n",
      "    \"numberOfEmployee\": 5,\n",
      "    \"rating\": 4.5\n",
      "  }\n",
      "}\n"
     ]
    }
   ],
   "source": [
    "universities_new = dict()\n",
    "\n",
    "for idx,init in enumerate(initials):\n",
    "    universities_new[init] = univiersities[idx]\n",
    "print(universities_new)\n",
    "print()\n",
    "string = json.dumps(universities_new, indent=2, sort_keys = True)\n",
    "print(string)"
   ]
  },
  {
   "cell_type": "markdown",
   "id": "a1c19b6c-e712-4077-8304-886bf45ac8f2",
   "metadata": {},
   "source": [
    "## Step 5: universities_new.json 파일 생성하기 (1.0p)\n",
    "\n",
    "* 위에서 구성한 json 데이터 구조로 새 파일(`universities_new.json`)을 생성하십시오. \n",
    "* 파일을 생성한 후, 파일 내용을 확인하십시오. \n",
    "    - 코드 셀에서 `%load universities_new.json`로 읽어드릴 수 있습니다\n",
    "    - 혹은 코드 셀에서 `!type universities_new.json`로 읽어볼 수 있습니다. \n",
    "    - 혹은 텍스트 편집기로 파일을 열어서 확인하십시오. "
   ]
  },
  {
   "cell_type": "markdown",
   "id": "62092085-d923-46ec-a1a4-7f9abe8bf731",
   "metadata": {},
   "source": [
    "__Expected Output:___\n",
    "```\n",
    "{\n",
    "  \"BU\": {\n",
    "    \"ceo\": \"June\",\n",
    "    \"name\": \"Big University\",\n",
    "    \"numberOfEmployee\": 10000,\n",
    "    \"rating\": 3.9\n",
    "  },\n",
    "  \"HGU\": {\n",
    "    \"ceo\": \"Holy Spirit\",\n",
    "    \"name\": \"handong global university\",\n",
    "    \"numberOfEmployee\": 5000,\n",
    "    \"rating\": 5.0\n",
    "  },\n",
    "  \"SS\": {\n",
    "    \"ceo\": null,\n",
    "    \"name\": \"Small Start-up\",\n",
    "    \"numberOfEmployee\": 5,\n",
    "    \"rating\": 4.5\n",
    "  }\n",
    "}\n",
    "```"
   ]
  },
  {
   "cell_type": "code",
   "execution_count": 50,
   "id": "6c907057-9a57-416e-a651-827bc5a07da7",
   "metadata": {},
   "outputs": [],
   "source": [
    "with open('universities_new.json', 'w') as f:\n",
    "    json.dump(universities_new, f, indent=2, sort_keys = True)"
   ]
  },
  {
   "cell_type": "code",
   "execution_count": 51,
   "id": "a0e8033a-6989-4174-b800-d84753d80f7f",
   "metadata": {},
   "outputs": [
    {
     "name": "stdout",
     "output_type": "stream",
     "text": [
      "universities_new.json not found\n"
     ]
    }
   ],
   "source": [
    "# for your testing\n",
    "\n",
    "!type universities_new.json"
   ]
  },
  {
   "cell_type": "code",
   "execution_count": 52,
   "id": "cccc4ad8-3570-4ce2-8440-523ed9abf095",
   "metadata": {},
   "outputs": [],
   "source": [
    "# %load universities_new.json\n",
    "{\n",
    "  \"BU\": {\n",
    "    \"ceo\": \"June\",\n",
    "    \"name\": \"Big University\",\n",
    "    \"numberOfEmployee\": 10000,\n",
    "    \"rating\": 3.9\n",
    "  },\n",
    "  \"HGU\": {\n",
    "    \"ceo\": \"Holly Spirit\",\n",
    "    \"name\": \"handong global university\",\n",
    "    \"numberOfEmployee\": 5000,\n",
    "    \"rating\": 5.0\n",
    "  },\n",
    "  \"SS\": {\n",
    "    \"ceo\": null,\n",
    "    \"name\": \"Small Start-up\",\n",
    "    \"numberOfEmployee\": 5,\n",
    "    \"rating\": 4.5\n",
    "  }\n",
    "}"
   ]
  },
  {
   "cell_type": "code",
   "execution_count": null,
   "id": "ae97731c-9f9b-4595-a498-5c0a8d01c248",
   "metadata": {},
   "outputs": [],
   "source": []
  }
 ],
 "metadata": {
  "kernelspec": {
   "display_name": "Python 3",
   "language": "python",
   "name": "python3"
  },
  "language_info": {
   "codemirror_mode": {
    "name": "ipython",
    "version": 3
   },
   "file_extension": ".py",
   "mimetype": "text/x-python",
   "name": "python",
   "nbconvert_exporter": "python",
   "pygments_lexer": "ipython3",
   "version": "3.8.5"
  }
 },
 "nbformat": 4,
 "nbformat_minor": 5
}
