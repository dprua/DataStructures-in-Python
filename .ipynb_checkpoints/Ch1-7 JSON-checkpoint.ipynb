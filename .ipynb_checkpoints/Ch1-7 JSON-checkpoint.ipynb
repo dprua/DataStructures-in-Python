{
 "cells": [
  {
   "cell_type": "markdown",
   "id": "bfb7cd08-eaed-4448-a801-eb01f4000caf",
   "metadata": {},
   "source": [
    "<img src=\"https://github.com/idebtor/DSpy/blob/6b3676c3de29f85d2e7f30679676d1fd96d88b17/images/WelcomeToDataStructures.jpg?raw=true\" width=1000>\n",
    "\n",
    "---------"
   ]
  },
  {
   "cell_type": "markdown",
   "id": "7c2edcb7-b2bf-4da7-a2b8-e500df0381bf",
   "metadata": {},
   "source": [
    "# JSON: JavaScript Object Notation\n",
    "\n",
    "1. Text-based data representation format for data interchange\n",
    "    - Human readable (good for debugging / manual editing)\n",
    "1. Commonly Used for APIs and Configs\n",
    "    - Makes the information more portable\n",
    "1. Lightweight and easy to read and write\n",
    "    - Easy to transmit using web\n",
    "1. Integrates easily with most languages \n",
    "    - Portable to different platforms\n",
    "\n",
    "It is very widely used for many applications and its configuration. It is very hard to find an application which does not use JSON in some extent.  "
   ]
  },
  {
   "cell_type": "markdown",
   "id": "48be1f2f-35f3-4cdc-8d4b-f4975f34b4d6",
   "metadata": {},
   "source": [
    "# JSON Types\n",
    "JSON 다음과 같은 객체 타입들이 있습니다. \n",
    "\n",
    "1. Strings – `\"Hello World\", \"James\" `\n",
    "1. Numbers – `10, 1.5,  -30, 1.2e10 `\n",
    "1. Booleans – `true, false`\n",
    "1. null – `null`\n",
    "1. Arrays – `[1, 2, 3], [\"Hello\", \"World\"]`\n",
    "1. Objects – `{\"key\": \"value\"}, {\"name\": \"Joe\", \"age\": 22}`"
   ]
  },
  {
   "cell_type": "markdown",
   "id": "87c1eeba-ca35-47ae-a1e7-75d7b78ef77a",
   "metadata": {},
   "source": [
    "JSON 타입은 다음과 같은 Python타입과 일대일 호환은 아니지만, 상당히 유사하게 호환할 수 있습니다. \n",
    "\n",
    "\n",
    "|JSON | Python  |\n",
    "|: ------|:-----|\n",
    "| object | dict   | \n",
    "| array  | list, tuple |\n",
    "| string | str |\n",
    "| number | int, float, int- & float-derived Enums |\n",
    "| true   | True | \n",
    "| false  | False | \n",
    "| null   | None |"
   ]
  },
  {
   "cell_type": "markdown",
   "id": "dd916ba1-5936-4054-818d-561ab2bbbdfe",
   "metadata": {},
   "source": [
    "# JSON 파일과 파이썬 JSON객체를 다루기 \n",
    "- JSON 파일을 손으로 작성하고, 파이썬 코드로 읽어오기\n",
    "- JSON 파일을 파이썬 코드로 작성하기\n",
    "\n",
    "이러한 작업들 위하여 사용하는 json 모듈이며, 가장 중요한 4개의 함수는 다음과 같습니다. \n",
    "\n",
    "- `json` 모듈은 파이썬에 포함되어 있어서 추가적인 설치가 필요 없습니다.\n"
   ]
  },
  {
   "cell_type": "markdown",
   "id": "1d5c0f1c-1cab-487c-b74e-9b1a8d4cba92",
   "metadata": {},
   "source": [
    "## JSON파일을 파이썬 객체화하기(디코딩, 역직렬화)\n",
    "\n",
    "- `json.load()`: 파일에 있는 JSON 포맷 데이터를 Python 객체로 읽어오기 (역직렬화 혹은 디코딩이라고 부르기도 합니다)\n",
    "- `json.loads()`: 메모리에 있는 JSON 형식의 문자열로 되어 있는 입력자료를 받아 파이썬 객체로 전환합니다.  \n",
    "\n",
    "<img src=\"https://github.com/idebtor/DSpy/blob/b67467b971cf48c14faf7c8ebed7a94871dbb2ad/images/chap1/Chapter%201-25json_load.jpg?raw=true\" width=\"100%\">\n",
    "<center>그림1. load() and loads() 비교</center>"
   ]
  },
  {
   "cell_type": "markdown",
   "id": "7bd7c70e-bea6-4567-9d58-325588fa6473",
   "metadata": {},
   "source": [
    "## 파이썬 객체로 JSON파일 만들기(인코딩, 직렬화)\n",
    "\n",
    "- `json.dump()`: Python객체를 파일에 저장할 때(직렬화, 인코딩) 사용합니다. \n",
    "- `json.dumps()`: Python객체를 문자열로 출력할 때 사용합니다. \n",
    "\n",
    "<img src=\"https://github.com/idebtor/DSpy/blob/b67467b971cf48c14faf7c8ebed7a94871dbb2ad/images/chap1/Chapter%201-27json_dump.jpg?raw=true\" width=\"100%\">\n",
    "\n",
    "<center>그림2. dump() and dumps() 비교</center>"
   ]
  },
  {
   "cell_type": "markdown",
   "id": "738af23d-c9d3-456a-b32d-0b9fa39787e0",
   "metadata": {},
   "source": [
    "# JSON Example - JSON String Type"
   ]
  },
  {
   "cell_type": "markdown",
   "id": "09a72d91-d22c-4e13-adc1-a477756935e3",
   "metadata": {},
   "source": [
    "아래는 여러 줄로 구성된 파이썬 str type의 문자열이 있습니다. 이는 또한 json에도 적합한 문자열입니다. 문자열의 내부를 살펴보면, 마치 파이썬의 `dict type` 즉 `key:value` 쌍으로 자료가 구성되어 있습니다. \n",
    "- \"people\"이라는 `key`가 있고, 그 `value`로 `list`가 있는데, \n",
    "- 그 `list`안에는 또 두 개의 `dict type` 자료(객체)가 있습니다. \n",
    "- 그 두 개의 자료 안에 각각 4개의 `key:value`쌍으로 구성된 자료(객체)가 있습니다. \n",
    "- 각 객체는 `name, phone, email, coder`라는 `key`와 `value`를 저장하고 있습니다."
   ]
  },
  {
   "cell_type": "code",
   "execution_count": null,
   "id": "25b0b29a-3d36-416c-980d-a1c8f6059faf",
   "metadata": {},
   "outputs": [],
   "source": [
    "import json\n",
    "\n",
    "people_string = \"\"\"\n",
    "{\n",
    "    \"people\": [\n",
    "        {\n",
    "            \"name\": \"Joe Blow\",\n",
    "            \"phone\": \"010-555-1234\",\n",
    "            \"email\": [\"jb@gmail.com\", \"jb@workmail.com\"],\n",
    "            \"coder\": false\n",
    "        },\n",
    "        {\n",
    "            \"name\": \"Jane Lee\",\n",
    "            \"phone\": \"010-555-4321\",\n",
    "            \"email\": null,\n",
    "            \"coder\": true\n",
    "        }\n",
    "    ]\n",
    "}\n",
    "\"\"\""
   ]
  },
  {
   "cell_type": "markdown",
   "id": "eb79089f-6353-4646-838f-d6053e2ed042",
   "metadata": {},
   "source": [
    "## JSON 형식의 문자열을 파이썬 객체로 변환하기 \n",
    "위의 문자열은 json 객체로 작성된 것인데, 이것을 우리가 파이썬 코드로 이 자료들을 다룰 수 있도록 파이썬 객체로 쉽게 변환할 수 있습니다. 다음과 같은 `json.loads()`를 사용하여 만든 파이썬 객체를 출력해봅니다. \n",
    "\n",
    "- json.load() - JSON 형식의 파일을 읽고, 파이썬 객체로 전환합니다. \n",
    "- json.loads() - JSON 형식의 문자열로 되어 있는 입력자료를 받아 파이썬 객체로 전환합니다.  \n",
    "\n",
    "__Sample Run:__\n",
    "```json\n",
    "<class 'dict'>\n",
    "{'people': [{'name': 'Joe Blow', 'phone': '010-555-1234', 'email': ['jb@gmail.com', 'jb@workmail.com'], 'coder': False}, {'name': 'Jane Lee', 'phone': '010-555-4321', 'email': None, 'coder': True}]}\n",
    "```"
   ]
  },
  {
   "cell_type": "code",
   "execution_count": null,
   "id": "7241ed76-8d8a-451f-8d9b-03a85718e278",
   "metadata": {},
   "outputs": [],
   "source": [
    "data = None\n",
    "print(None)\n",
    "print(data)"
   ]
  },
  {
   "cell_type": "markdown",
   "id": "61147c91-7254-4a30-b698-d504ed5db897",
   "metadata": {},
   "source": [
    "출력한 결과를 읽기가 힘들겠지만, 기본적으로 dict type으로 변환된 것을 관찰할 수 있습니다. \n",
    "JSON 객체는 이렇게 Python 객체는 변환되지만, 항상 일치하는 것은 아닙니다. [여기를 참조하십시오.](https://docs.python.org/3/library/json.html)\n",
    "\n",
    "\n",
    "|Python  |JSON |\n",
    "|: ------|:-----|\n",
    "| dict   | object |\n",
    "| list, tuple | array |\n",
    "| str    | string |\n",
    "| int, float, int- & float-derived Enums | number |\n",
    "| True   | true | \n",
    "| False  | false | \n",
    "| None   | null |"
   ]
  },
  {
   "cell_type": "markdown",
   "id": "c5e79486-11a4-41ad-a1fe-4f6575c4298d",
   "metadata": {},
   "source": [
    "## list의 각 요소들을 출력하기 \n",
    "\n",
    "위에서 만든 data 객체는 `dict type`이고, `key`는 `people`이고, 그 `value`는 `list type`으로 두 사람을 요소(element)를 가지고 있습니다. list의 각 요소를 for loop로 체크해보도록 합시다. \n",
    "\n",
    "__Sample Run:__\n",
    "```json\n",
    "{'name': 'Joe Blow', 'phone': '010-555-1234', 'email': ['jb@gmail.com', 'jb@workmail.com'], 'coder': False}\n",
    "{'name': 'Jane Lee', 'phone': '010-555-4321', 'email': None, 'coder': True}\n",
    "```"
   ]
  },
  {
   "cell_type": "code",
   "execution_count": null,
   "id": "305f4778-f1fa-41e4-a267-930947be7a58",
   "metadata": {},
   "outputs": [],
   "source": []
  },
  {
   "cell_type": "markdown",
   "id": "05f5d24a-46ec-46f4-8506-d56b33d9c583",
   "metadata": {},
   "source": [
    "## list의 사람들의 `name`의 값만 출력하기\n",
    "위에서 두 사람 즉 리스트의 two elements를 출력했는데, 이번에는 그 두 사람의 `name`의 값들만 출력해봅시다. \n",
    "\n",
    "__Sample Run:__:\n",
    "```\n",
    "Joe Blow\n",
    "Jane Lee\n",
    "```"
   ]
  },
  {
   "cell_type": "code",
   "execution_count": null,
   "id": "a87454de-6c24-4a7d-b68b-9d3d3294ca6c",
   "metadata": {},
   "outputs": [],
   "source": []
  },
  {
   "cell_type": "markdown",
   "id": "74e33c55-3d65-4680-83f1-6ccc6e3f7e55",
   "metadata": {},
   "source": [
    "## 파이썬 객체에서 `phone` 자료 삭제하기\n",
    "\n",
    "지금까지 JSON 객체를 파이썬 객체로 만들어 그 파이썬 객체를 다루어 보았는데, 이제는 반대로 파이썬 객체를 JSON String 객체로 만들어 보고, 파일에 저장해 보겠습니다. \n",
    "다만, 새로 만드는 객체에 변화를 주기위해, 전화번호를 제외한 JSON 객체를 만들어 본다고 가정합시다. 그래서, 먼저 파이썬 코드로 `phone`을 삭제합니다. \n",
    "\n",
    "__Sample Run:__:\n",
    "```json\n",
    "{'people': [{'name': 'Joe Blow', 'email': ['jb@gmail.com', 'jb@workmail.com'], 'coder': False}, {'name': 'Jane Lee', 'email': None, 'coder': True}]}\n",
    "```"
   ]
  },
  {
   "cell_type": "code",
   "execution_count": null,
   "id": "b2fd396d-a1cf-4acf-baf2-9fbe93e898b2",
   "metadata": {},
   "outputs": [],
   "source": [
    "\n",
    "print(data)"
   ]
  },
  {
   "cell_type": "markdown",
   "id": "8a15dd00-aedc-4347-8712-8cdbf0cba91d",
   "metadata": {},
   "source": [
    "## `indent = 2` 인자 사용하기 \n",
    "- 가독성(readability)를 높이기 위해, `dumps()` 함수에 `indent`를 추가할 수 있습니다. 그러면, 상당히 쉽게 읽을 수 있는(human-readable) 형식이 됩니다. \n",
    "- 필요에 따라 key값으로 정렬하게 할 수 있습니다.\n",
    "\n",
    "__Sample Run:__:\n",
    "```json\n",
    "{\n",
    "  \"people\": [\n",
    "    {\n",
    "      \"coder\": false,\n",
    "      \"email\": [\n",
    "        \"jb@gmail.com\",\n",
    "        \"jb@workmail.com\"\n",
    "      ],\n",
    "      \"name\": \"Joe Blow\"\n",
    "    },\n",
    "    {\n",
    "      \"coder\": true,\n",
    "      \"email\": null,\n",
    "      \"name\": \"Jane Lee\"\n",
    "    }\n",
    "  ]\n",
    "}\n",
    "```\n"
   ]
  },
  {
   "cell_type": "code",
   "execution_count": null,
   "id": "80f22885-ebc1-4008-b894-dd8f1fb9fc14",
   "metadata": {},
   "outputs": [],
   "source": [
    "new_string = None\n",
    "print(new_string)"
   ]
  },
  {
   "cell_type": "markdown",
   "id": "ff029bfe-541c-4a60-bb50-3404bc30ceaa",
   "metadata": {},
   "source": [
    "`sort_keys = True` 로 말미암아, `coder, email, name` 순으로 정렬이 되었습니다. \n",
    "다만, `json.dumps()`의 결과로 얻어지는 것은 `str` 타입인 것에 유의해야 합니다. 다른 말로, 이것을 JSON 파일로 저장하는 것은 가능하지만, __바람직하지 않습니다.__\n",
    "\n",
    "왜 그럴까요? \n",
    "- 직접 다음과 같이 파일을 작성하고, text editor로 그 내용을 살펴보면 알 수 있습니다. \n",
    "- `new_string` 자체를 `print()`가 아니라 단순히 `evaluate`해보아도 쉽게 알 수 있습니다. "
   ]
  },
  {
   "cell_type": "code",
   "execution_count": null,
   "id": "c6681d73-154f-4121-ac60-ffe46eb014f6",
   "metadata": {},
   "outputs": [],
   "source": [
    "with open('people.json', 'w') as f:\n",
    "    json.dump(new_string, f)"
   ]
  },
  {
   "cell_type": "code",
   "execution_count": null,
   "id": "2e4b8f2b-2f1c-4811-9df7-82b019e79bbb",
   "metadata": {},
   "outputs": [],
   "source": [
    "new_string"
   ]
  },
  {
   "cell_type": "markdown",
   "id": "916b5cf8-66ef-4bd9-8d8a-d67430f9dcc9",
   "metadata": {},
   "source": [
    "## JSON 파일 작성하기 (Encoding, Serialization)\n",
    "- 그러면, `people.json`파일이 다음과 같은 내용을 갖도록 파일을 만들 수 있을까요?\n",
    "\n",
    "__Expected JSON File:__"
   ]
  },
  {
   "cell_type": "markdown",
   "id": "9ce8f4a7-ff50-46ac-84c5-d649468b4e16",
   "metadata": {},
   "source": [
    "```json\n",
    "{\n",
    "  \"people\": [\n",
    "    {\n",
    "      \"coder\": false,\n",
    "      \"email\": [\n",
    "        \"jb@gmail.com\",\n",
    "        \"jb@workmail.com\"\n",
    "      ],\n",
    "      \"name\": \"Joe Blow\"\n",
    "    },\n",
    "    {\n",
    "      \"coder\": true,\n",
    "      \"email\": null,\n",
    "      \"name\": \"Jane Lee\"\n",
    "    }\n",
    "  ]\n",
    "}\n",
    "```\n",
    "\n",
    "__1st Trial:__ without indent"
   ]
  },
  {
   "cell_type": "code",
   "execution_count": null,
   "id": "67228ccd-b166-46bf-8fda-9bd683f95f65",
   "metadata": {},
   "outputs": [],
   "source": [
    "with open('people.json', 'w') as f:\n",
    "    None"
   ]
  },
  {
   "cell_type": "markdown",
   "id": "9996ae4f-f6ae-4f55-bfa7-50adda35c7e9",
   "metadata": {},
   "source": [
    "__Solution:__ with indent"
   ]
  },
  {
   "cell_type": "code",
   "execution_count": null,
   "id": "1c5f7de9-f88c-4378-9ebf-0d9e181d9771",
   "metadata": {},
   "outputs": [],
   "source": [
    "with open('people.json', 'w') as f:\n",
    "    None"
   ]
  },
  {
   "cell_type": "markdown",
   "id": "6014af4a-407b-4f13-92ff-0eb2258154b8",
   "metadata": {
    "tags": []
   },
   "source": [
    "# JSON Example - Web Data Extraction\n",
    "\n",
    "## 웹에서 JSON 파일 자료를 받아 파이썬 객체로 변환하기\n",
    "다음의 `states.json` 파일은 다음과 같이 미국의 각 주(State)와 약자(Abbrev)와 코드(Code)로 구성되어 있으며, [여기서](https://worldpopulationreview.com/states/state-abbreviations) 내려받을 수 있습니다.\n",
    "\n",
    "```json\n",
    "[\n",
    "  {\n",
    "    \"State\": \"Alabama\",\n",
    "    \"Abbrev\": \"Ala.\",\n",
    "    \"Code\": \"AL\"\n",
    "  },\n",
    "  {\n",
    "    \"State\": \"Alaska\",\n",
    "    \"Abbrev\": \"Alaska\",\n",
    "    \"Code\": \"AK\"\n",
    "  },\n",
    "  ...\n",
    "]\n",
    "```\n",
    "`states.json` 파일이 현재 폴더에 존재한다고 가정하면, 다음과 같이 파일을 파이썬 객체로 읽어올 수 있습니다. 그리고, 첫 5개 주에 대한 자료를 출력합니다. "
   ]
  },
  {
   "cell_type": "code",
   "execution_count": null,
   "id": "80ba887d-ffe0-47cc-b554-0ecec4902eaa",
   "metadata": {
    "tags": []
   },
   "outputs": [],
   "source": [
    "import json\n",
    "\n",
    "with open('states.json') as f:\n",
    "    None\n"
   ]
  },
  {
   "cell_type": "markdown",
   "id": "77eef7d8-c7da-42d6-895a-051fce00d7d4",
   "metadata": {},
   "source": [
    "## list 객체 즉 각 State 입력을 하나씩 출력하기\n",
    "위의 예제에서 한 같은 방법으로 파이썬 객체로 다루면, 이번 자료는 전체가 하나의 list type 객체가 되었습니다. list 객체에는 각 주가 하나의 dict type 객체로 존재하고 있습니다. 먼저 몇 개의 주가 있는지 출력하고, 각 주에 해당하는 각 객체를 출력해보록 합니다. \n",
    "\n",
    "__Sample Run:__\n",
    "```json\n",
    "51\n",
    "{'State': 'Alabama', 'Abbrev': 'Ala.', 'Code': 'AL'}\n",
    "{'State': 'Alaska', 'Abbrev': 'Alaska', 'Code': 'AK'}\n",
    "{'State': 'Arizona', 'Abbrev': 'Ariz.', 'Code': 'AZ'}\n",
    "...\n",
    "```"
   ]
  },
  {
   "cell_type": "code",
   "execution_count": null,
   "id": "8e3b129c-5045-4792-8e85-d6f31f46a42c",
   "metadata": {
    "tags": []
   },
   "outputs": [],
   "source": [
    "print(len(states))\n",
    "None"
   ]
  },
  {
   "cell_type": "markdown",
   "id": "80916a12-26c0-4088-a2a1-74b1f8934e13",
   "metadata": {},
   "source": [
    "## 원하는 자료만 발췌하기\n",
    "일단, JSON 객체를 파이썬 객체로 만들게 되면, 쉽게 자료들을 다룰 수 있습니다. 예를 들면, 이런 자료에서 `Abbrev`를 제외하고 주 이름과 코드만 출력하기를 원하면 다음과 같이 코딩할 수 있습니다. \n",
    "\n",
    "__Sample Run:__\n",
    "```\n",
    "Alabama AL\n",
    "Alaska AK\n",
    "Arizona AZ\n",
    "Arkansas AR\n",
    "California CA\n",
    "...\n",
    "```"
   ]
  },
  {
   "cell_type": "code",
   "execution_count": null,
   "id": "a0064c07-cb69-4c4d-a078-fae24c069d53",
   "metadata": {
    "tags": []
   },
   "outputs": [],
   "source": [
    "for state in states:\n",
    "    None"
   ]
  },
  {
   "cell_type": "markdown",
   "id": "7c65b6ad-cb1d-4b45-ba7a-ed09fd1e28df",
   "metadata": {},
   "source": [
    "## 불필요한 자료 삭제하고, 남은 자료를 파일로 저장하기\n",
    "\n",
    "이제 파이썬 객체에서 \n",
    "1. `Abbrev`를 삭제하고 \n",
    "2. 자료를 출력하고, \n",
    "3. 이 자료를 파일 `states_new.json`으로 저장해 봅시다. 저장할 때는 항상 가독성을 높이기 위해 `indent=2`인자를 넣어주는 것을 권장합니다. "
   ]
  },
  {
   "cell_type": "markdown",
   "id": "f680e187-1d80-4a0a-8ba4-25007d9f2133",
   "metadata": {},
   "source": [
    "__Sample Run:__\n",
    "```\n",
    "{'State': 'Alabama', 'Code': 'AL'}\n",
    "{'State': 'Alaska', 'Code': 'AK'}\n",
    "{'State': 'Arizona', 'Code': 'AZ'}\n",
    "{'State': 'Arkansas', 'Code': 'AR'}\n",
    "{'State': 'California', 'Code': 'CA'}\n",
    "...\n",
    "```\n",
    "__Expected JSON file Output:__\n",
    "```json\n",
    "[\n",
    "  {\n",
    "    \"State\": \"Alabama\",\n",
    "    \"Code\": \"AL\"\n",
    "  },\n",
    "  {\n",
    "    \"State\": \"Alaska\",\n",
    "    \"Code\": \"AK\"\n",
    "  },\n",
    "  ...\n",
    "]\n",
    "```"
   ]
  },
  {
   "cell_type": "code",
   "execution_count": null,
   "id": "43614f75-f004-4db1-b028-e9b955c79257",
   "metadata": {},
   "outputs": [],
   "source": []
  },
  {
   "cell_type": "markdown",
   "id": "c0141fdf-cd1c-43a6-806f-057e470d148a",
   "metadata": {},
   "source": [
    "--------\n",
    "슬기로운 자는 재앙을 보면 숨어 피하여도 어리석은 자들은 나가다가 해를 받느니라. \n",
    "잠언22:3, 27:12"
   ]
  }
 ],
 "metadata": {
  "kernelspec": {
   "display_name": "Python 3",
   "language": "python",
   "name": "python3"
  },
  "language_info": {
   "codemirror_mode": {
    "name": "ipython",
    "version": 3
   },
   "file_extension": ".py",
   "mimetype": "text/x-python",
   "name": "python",
   "nbconvert_exporter": "python",
   "pygments_lexer": "ipython3",
   "version": "3.8.8"
  },
  "toc-autonumbering": true
 },
 "nbformat": 4,
 "nbformat_minor": 5
}
