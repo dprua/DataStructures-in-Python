{
 "cells": [
  {
   "cell_type": "markdown",
   "metadata": {},
   "source": [
    "The fear of the LORD is the beginning of knowledge, but fools despise wisdom and discipline. Proverbs 1:7\n",
    "\n",
    "-------"
   ]
  },
  {
   "cell_type": "markdown",
   "metadata": {},
   "source": [
    "<img src=\"https://github.com/idebtor/DSpy/blob/cab9662b5ff01661ef8034289c92287d02b8e1ed/images/chap2/markdown_tutorial.jpg?raw=true\" width=1000>\n",
    "\n",
    "----"
   ]
  },
  {
   "cell_type": "markdown",
   "metadata": {},
   "source": [
    "\n",
    "# 마크다운(Markdown)\n",
    "\n",
    "마크다운 (Markdown)은 마크업(Markup)언어의 일종으로 마크업보다 쉽게 웹 문서를 작성할 수 있는 도구입니다. \n",
    "\n",
    "- 존 그루버(John Gruber)와 아론 스워츠(Aaron Swartz)가 만들었습니다. 처음 이메일의 글쓰기 형식에 영감받아 Python을 이용하여 html변환기를 만들면서 시작되었다고 합니다. \n",
    "- 마크다운 문법은 읽기도 쉽지만 쓰기도 쉽다는 장점이 있습니다. Stackoverflow의 모든 질문과 답변은 마크다운으로 작성한 것입니다. 또한 GitHub에서 볼 수 있는 대부분의 문서들도 마크다운으로 작성되었습니다.  \n",
    "- 파일의 확장자는 **.md**를 사용합니다."
   ]
  },
  {
   "cell_type": "markdown",
   "metadata": {},
   "source": [
    "# 마크다운 문법(Syntax)\n",
    "\n",
    "## 제목(Header)\n",
    "\n",
    "`html`에서 사용하는 `<h1>`부터 `<h6>`까지 제목을 표현할 수 있습니다. 아래와 같이 간단히 표현할 수 있습니다. \n",
    "\n",
    "참고로, 키보드 왼쪽 윗부분(숫자 `1`의 왼쪽 키)에 있는 Grave(영어에서 엑센트를 표시할 사용함)키를 사용하여 코드를 인용할 좋습니다.  \n",
    "\n",
    "\n",
    "__입력:__\n",
    "    \n",
    "```\n",
    "# 제목 1\n",
    "## 제목 2\n",
    "### 제목 3\n",
    "#### 제목 4\n",
    "##### 제목 5\n",
    "###### 제목 6\n",
    "```\n",
    "\n",
    "__결과:__ \n",
    "\n",
    "아래 Markdown cell에서 위의 `제목`들을 입력하고 실행해보십시오. "
   ]
  },
  {
   "cell_type": "markdown",
   "metadata": {},
   "source": []
  },
  {
   "cell_type": "markdown",
   "metadata": {},
   "source": [
    "## 강조(Emphasis)\n",
    "\n",
    "__입력:__\n",
    "- 두껍게(bold)는 `__언더바(underscore)__` 혹은 `**별표(asterisks)**`를 사용하세요   \n",
    "- 이텔릭체(italic) `_언더바(underscore)_` 혹은 `*별표(asterisks)*` 혹은 를 사용하세요. \n",
    "- 취소선은 `~~물결표시(tilde)~~`를 사용하세요 \n",
    "- `<u>밑줄</u>`은 `<u></u>`를 사용하세요.\n",
    "- 코드는 Grave 키를 사용합니다. \n",
    "\n",
    "\n",
    "__결과:__ \n",
    "\n",
    "위의 __입력__ 부분을 copy & paste하여 아래 마크다운 셀에서 실행한 후, 아래와 같은 결과가 나오도록 수정하십시오. \n",
    "\n",
    "<img src=\"https://github.com/idebtor/DSpy/blob/3dea7794faeb58a8a6b7dedd16f2e506a08f6aef/images/chap2/markdown1.jpg?raw=true\" width=600>\n",
    "\n"
   ]
  },
  {
   "cell_type": "markdown",
   "metadata": {
    "tags": []
   },
   "source": []
  },
  {
   "cell_type": "markdown",
   "metadata": {},
   "source": [
    "## 코드 인용과 코드 블록(Code Block) 강조\n",
    "키보드 왼쪽 윗부분(숫자 `1`의 왼쪽 키)에 있는 `Grave`(영어에서 엑센트를 표시할 사용함) 키를 1번 입력하여 문장 중에서 사용하고, 코드 블록처럼 여러 줄의 코드일 경우, Grave키를 3번 입력하고 코드 종류도 적습니다\n",
    "\n",
    "```C++\n",
    "using namespace std;\n",
    "int main(int argc, **char) {\n",
    "    cout << \"Hello World\" << endl;\n",
    "}\n",
    "```\n",
    "\n",
    "```C\n",
    "#include <stdio>\n",
    "int main(int argc, **char) {\n",
    "    printf(\"Hello World\\n\");\n",
    "}\n",
    "```\n",
    "\n",
    "```python\n",
    "def Hello():\n",
    "    print(\"Hello World\")\n",
    "```\n"
   ]
  },
  {
   "cell_type": "markdown",
   "metadata": {},
   "source": [
    "## 줄바꿈(Line Breaks)\n",
    "\n",
    "일련의 문자열은 줄바꿈이 일어나지 않고 한 단락으로 출력됩니다. 그러므로, 줄비꿈을 하려면, 줄 끝에 '2번의 띄어쓰기'를 하거나 `<br>`를 활용할 수 있습니다. 예를 들면, 아래 **Case 1** 과 같이 입력할지라도 결과는 각 줄 끝에 `2번 이상의 띄어쓰기`가 없으면, 한 단락으로 출력됩니다. "
   ]
  },
  {
   "cell_type": "markdown",
   "metadata": {},
   "source": [
    "__Case 1:__\n",
    "```\n",
    "태초에 하나님이 천지를 창조하시니라\n",
    "땅이 혼돈하고 공허하며 흑암이 깊음 위에 있고 하나님의 영은 수면 위에 운행하시니라\n",
    "하나님이 이르시되 빛이 있으라 하시니 빛이 있었고 빛이 하나님이 보시기에 좋았더라 \n",
    "```\n",
    "\n",
    "__Case 1 결과:__\n",
    "```\n",
    "태초에 하나님이 천지를 창조하시니라 땅이 혼돈하고 공허하며 흑암이 깊음 위에 있고 하나님의 영은 수면 위에 운행하시니라 하나님이 이르시되 빛이 있으라 하시니 빛이 있었고 빛이 하나님이 보시기에 좋았더라\n",
    "```\n",
    "\n",
    "__Case 1:__ 결과가 나올 수 있도록 문서를 작성하십시오. "
   ]
  },
  {
   "cell_type": "markdown",
   "metadata": {},
   "source": []
  },
  {
   "cell_type": "markdown",
   "metadata": {},
   "source": [
    "__Case 2 결과:__\n",
    "```\n",
    "태초에 하나님이 천지를 창조하시니라    \n",
    "땅이 혼돈하고 공허하며 흑암이 깊음 위에 있고 하나님의 영은 수면 위에 운행하시니라   \n",
    "하나님이 이르시되 빛이 있으라 하시니 빛이 있었고 빛이 하나님이 보시기에 좋았더라\n",
    "```\n",
    "\n",
    "__Case 2 결과:__ 처럼 나올 수 있도록 아래 셀에 문서를 작성하십시오. "
   ]
  },
  {
   "cell_type": "markdown",
   "metadata": {},
   "source": []
  },
  {
   "cell_type": "markdown",
   "metadata": {},
   "source": [
    "    "
   ]
  },
  {
   "cell_type": "markdown",
   "metadata": {},
   "source": [
    "## 목록(List)\n",
    "\n",
    "### 순서있는 목록(ordered list)\n",
    "순서 있는 목록은 숫자와 점을 사용합니다.<br> \n",
    "\n",
    "__결과:__\n",
    "\n",
    "```\n",
    "1. 검은돌 \n",
    "    A. 검\n",
    "    B. 돌\n",
    "2. 흰돌 \n",
    "3. 이세돌  \n",
    "    A. 이\n",
    "    B. 세  \n",
    "    C. 돌\n",
    "```\n",
    "\n",
    "위의 __결과:__ 와 같이 출력되도록 아래에 입력하십시오. "
   ]
  },
  {
   "cell_type": "markdown",
   "metadata": {},
   "source": []
  },
  {
   "cell_type": "markdown",
   "metadata": {},
   "source": [
    "### 순서없는 목록(unordered list)\n",
    "- 순서 있는 목록은 숫자와 점을 사용합니다.<br> \n",
    "- 점외에 사용 가능한 기호\n",
    "    - 대쉬(hyphen)\n",
    "    * 별표(asterisks)\n",
    "    + 더하기(plus sign)\n",
    "        - 한 번 더 하기"
   ]
  },
  {
   "cell_type": "markdown",
   "metadata": {},
   "source": [
    "__입력:__\n",
    "\n",
    "```\n",
    "- 검은돌  \n",
    "    - 흰돌   \n",
    "        - 이세돌  \n",
    "```\n",
    "__결과:__ \n",
    "```\n",
    "직접 실행해보십시오. \n",
    "```"
   ]
  },
  {
   "cell_type": "markdown",
   "metadata": {},
   "source": []
  },
  {
   "cell_type": "markdown",
   "metadata": {},
   "source": [
    "## 링크(Links) \n",
    "\n",
    "- 문서 안에서 `[참조 링크]`를 그대로 사용할 수도 있습니다.\n",
    "- 다음과 같이 문서 내 일반 URL이나 꺾쇠 괄호(`< >`, Angle Brackets)안의 URL은 자동으로 링크를 사용합니다.\n",
    "\n",
    "\n",
    "__입력:__\n",
    "```\n",
    "[Welcome to Handong Global University](https://www.handong.edu)  \n",
    "[HGU](https://handong.edu)  \n",
    "[GOOGLE](https://google.com)  \n",
    "구글 홈페이지: https://google.com   \n",
    "네이버 홈페이지: <https://naver.com>  \n",
    "```\n",
    "\n",
    "__결과:__\n",
    "```\n",
    "직접 입력하여 실행하여 보십시오\n",
    "```"
   ]
  },
  {
   "cell_type": "markdown",
   "metadata": {},
   "source": []
  },
  {
   "cell_type": "markdown",
   "metadata": {},
   "source": [
    "## 표(Table)\n",
    "\n",
    "- 헤더 셀을 구분할 때 3개 이상의 -(hyphen/dash) 기호가 필요합니다.\n",
    "- 헤더 셀을 구분하면서 :(Colons) 기호로 셀(열/칸) 안에 내용을 정렬할 수 있습니다.\n",
    "    - 콜론(:)이 왼쪽에만 있으면, 왼쪽 정렬, 양쪽에 있으면 가운데 정렬, 오른쪽에만 있으면 오른쪽 정렬을 합니다. \n",
    "- 가장 좌측과 가장 우측에 있는 |(vertical bar) 기호는 생략 가능합니다."
   ]
  },
  {
   "cell_type": "markdown",
   "metadata": {},
   "source": [
    "\n",
    "| Stack Operation | Stack Contents | Return Value |\n",
    "|:----------------|:---------------|:------------:|\n",
    "|  `s.is_empty()` |      `[]`      |    `True`    |\n",
    "|   `s.push(4)`   |      `[4]`     |              \n",
    "| `s.push('dog')` |  `[4, 'dog']`  |              \n",
    "|   `s.peak()`    |  `[4, 'dog']`  |    `'dog'`   \n",
    "|  `s.push(True)` |`[4, 'dog', True]`|            \n",
    "|   `s.size()`    |`[4, 'dog', True]`|    `3`     "
   ]
  },
  {
   "cell_type": "markdown",
   "metadata": {},
   "source": [
    "위의 표에서 `Return Value`열이 가운데 정렬로 되어 있는데, 다른 열과 같게 왼쪽 정렬로 바꾸어 보십시오"
   ]
  },
  {
   "cell_type": "markdown",
   "metadata": {},
   "source": []
  },
  {
   "cell_type": "markdown",
   "metadata": {},
   "source": [
    "## 인용문(Block Quote)\n",
    "\n",
    "> The fear of the LORD is the beginning of knowledge, but fools despise wisdom and discipline.   \n",
    "> 여호와를 경외하는 것이 지식의 근본이거늘 미련한 자는 지혜와 훈계를 멸시하느니라  \n",
    "> __잠언1:7__\n",
    "\n",
    "\n",
    ">> God is good all the time!"
   ]
  },
  {
   "cell_type": "markdown",
   "metadata": {},
   "source": [
    "## 수평선(Horizontal Rule)\n",
    "\n",
    "다음과 같이 대쉬(`-`), 별(`*`) 혹은 언더스코어(`_`)를 세번 반복함으로 줄을 그을 수 있습니다. \n",
    "\n",
    "---\n",
    "\n",
    "***\n",
    "\n",
    "___"
   ]
  },
  {
   "cell_type": "markdown",
   "metadata": {},
   "source": [
    "## HTML 사용 가능\n",
    "\n",
    "마크다운 문법이 아닌 원시 HTML 문법도 사용할 수 있습니다. <u>마크다운에서 지원하지 않는 기능</u>을 사용할 때 유용하며 대부분 잘 동작합니다. <span style=\"color:blue\">특히 그림을 입력할 때, 어려움을 겪는 경우, 아래와 같이 HTML을 많이 사용합니다. </span>\n",
    "\n",
    "- 위에서 `<u></u>`, `<span style=\"color:blue\"></span>`을 사용하여 밑줄과 단락의 중간에 다른 색을 표현했습니다. \n",
    "- 다음은 그림을 불러오는 경우입니다. "
   ]
  },
  {
   "cell_type": "markdown",
   "metadata": {},
   "source": [
    "\n",
    "<img src=\"https://github.com/idebtor/KMOOC-ML/blob/master/ipynb/images/784-100-10NN.png?raw=true\" width=\"600\">\n",
    "<center>그림 3: 숫자 인식 인공 신경망</center>"
   ]
  },
  {
   "cell_type": "markdown",
   "metadata": {},
   "source": [
    "\n",
    "# Markdown Syntax Summary \n",
    "\n",
    "&ensp; &ensp; &nbsp; __Desired style__&ensp; &ensp; &ensp; __in Markdown syntax__&emsp; &emsp; &emsp; __in HTML syntax__\n",
    "```\n",
    "Heading 1\t    # Title                   <h1>Title</h1>\n",
    "Heading 2\t    ## Title                  <h2>Title</h2>\n",
    "Heading 3\t    ### Title                 <h3>Title</h3>\n",
    "Heading 4\t    #### Title                <h4>Title</h4>\n",
    "\n",
    "Paragraph       Just start typing         <p>Just start typing<p>\n",
    "    \n",
    "Bold            **Text**                  <strong>Text</strong>\n",
    "Bold            __Text__                  <strong>Text</strong>\n",
    "Italic          *Text*                    <em>Text</em>\n",
    "Italic          _Text_                    <em>Text</em>\n",
    "Strike          ~~Text~~                  <del>Text</del>\n",
    "           \n",
    "List (unordered) * List item 1            <ul><li>List item 1</li>\n",
    "                 * List item 2                <li>List item 2</li>\n",
    "                 * List item 3                <li>List item 3</li></ul>\n",
    "\n",
    "List (ordered)  1. List item 1            <ul><li>List item 1</li>\n",
    "                1. List item 2                <li>List item 2</li>\n",
    "                1. List item 3                <li>List item 3</li></ul>\n",
    "\n",
    "Images\t    ![Alt text](path/image.jpg)\t    <img src=\"path/image.jpg\" alt=\"Alt text>\n",
    "Hyperlinks\t[Link text](https://kmooc.kr/)\t<a href=\"https://kmooc.kr/\">Link text</a>\n",
    "\n",
    "Quoted (indent)   > Text                    <blockquote><p>Text</p></blockquote>\n",
    "Code (inline)     `Statement`               <code>Statement</code>\n",
    "Code (fenced)\t ```                       <pre><code><span>Statement   \n",
    "                  Statement 1               1</span><span>Statement\n",
    "                  Statement 2               2</span><span>Statement\n",
    "                  Statement 3               3</span></code></pre>\n",
    "                  ```                       \\\n",
    "```  "
   ]
  },
  {
   "cell_type": "markdown",
   "metadata": {},
   "source": [
    "\n",
    ">> God is good    \n",
    ">> all the time"
   ]
  },
  {
   "cell_type": "markdown",
   "metadata": {},
   "source": [
    "# LaTex (레이텍)\n",
    "\n",
    "MS Word처럼 WYSIWYG(What You See Is What You Get)방식으로 문서를 작성하는 것과 반대로 마치 프로그래밍을 하듯 (혹은 마크업으로 웹 문서를 작성하듯이) 문서를 작성하는 방법으로 가장 잘 알려진 그리고 많이 사용하는 방법입니다. 특히 수식(예를 들면, inline인 경우의 수식: $ D = \\sqrt{b^2 + 4ac}$)이 많이 필요한 자연과학, 공학, 사회과학 계열에서 거의 모든 전문가들이 레이텍을 사용하며, 특히 논문을 작성할 때는 이 방법을 피할 수 없을 정도입니다. 그 주된 이유 중에 하나는 Markdown 셀에서 혹은 markdown에서 LaTex를 사용하여 거의 완벽하게 문서를 작성할 수 있기 때문입니다. 레이텍을 사용하면, 문서(수식)가 복잡하여 MS Word 등 기타 문서 편집기들이 만들 수 없는 문서들을 작성해낼 수 있습니다.  \n",
    "\n",
    "예를 들면, 아래의 수식들이 기본에 해당하는 것들입니다 \n",
    "\n",
    "\\begin{align}\n",
    "    E &= mc^2    \\\\\n",
    "    m &= \\frac{m_0}{\\sqrt{1-\\frac{v^2}{c^2}‭}}\n",
    "\\end{align}\n",
    "\n",
    "\n",
    "$$ D = \\sqrt{b^2 + 4ac} $$\n",
    "\n",
    "$$\n",
    "z = w_0x_0 + w_1x_1 + ... + w_m x_m = \\sum_{j=0}^{m} x_j w_j = \\mathbf{w^Tx}\n",
    "$$\n",
    "\n",
    "$$\n",
    "c = a \\times b\n",
    "$$\n",
    "\n",
    "\n",
    "\\begin{align}\n",
    "z = w_0x_0 + w_1x_1 + ... + w_m x_m = \\sum_{j=0}^{m} x_j w_j = \\mathbf{w^Tx}\n",
    "\\end{align}\n",
    "\n",
    "$ D = \\sqrt{b^2 + 4ac}$ \\\n",
    "$ z = w_0x_0 + w_1x_1 + ... + w_m x_m = \\sum_{j=0}^{m} x_j w_j = \\mathbf{w^Tx} $\n",
    "\n",
    "---------"
   ]
  },
  {
   "cell_type": "markdown",
   "metadata": {},
   "source": [
    "# Exercise: markdown.ipynb & markdown.md\n",
    "\n",
    "## 마크다운 셀에서 문서 작성하기 - markdown.ipynb\n",
    "\n",
    "- 아래 그림에서 브라우저 안의 문서 내용을 주피터 랩(markdown.ipynb)안에서 작성하고 테스트하십시오. \n",
    "    - 문서 처음과 중간에 두 개의 링크(퍼셉트론 Perceptron, 로젠블라트 Frank Rosenblatt)는 wikipedia 에서 찾아서 연결하십시오. \n",
    "    - 또한 문서 끝에 사람 모양의 그림도 다음과 같이 보이도록 넣어 보십시오. \n",
    "        - 배너(\"Welcome to ...\") 이나 [사람 모양의 그림](https://github.com/idebtor/KMOOC-ML/blob/master/ipynb/images/person.png)은 어디서 찾을 수 있을까요? 등잔 밑에 있습니다(지금 이 셀을 클릭해보면 링크가 보이겠죠?) \n",
    "- 제목(Title) Numbering은 자동으로 설정되도록 합니다. (이것은 주피터 랩의 왼쪽 file explorer에서 on/off 할 수 있습니다) "
   ]
  },
  {
   "cell_type": "markdown",
   "metadata": {},
   "source": [
    "## 마크다운 문서(markdown.md)를 web browser에서 테스트하기 \n",
    "- 마크다운 셀의 내용으로 markdown.md 파일을 만들고, browser에서 테스트하십시오.\n",
    "    - 아래는 Chrome일 경우이지만, 다른 browser에서도 유사할 것입니다. \n",
    "    - 웹 브라우저에 \"Markdown Preview Plus\" extension을 설치합니다. \n",
    "    - 웹 브라우저의 `[설정] -> [도구 더 보기] -> [확장 프로그램] -> \"Markdown Preview Plus\" 찾아가십시오. \n",
    "    - 그 안에, `[세부정보]`로 들어가서,  `파일 URL에 대한 액세스 허용`을 허락하십시오. \n",
    "    - 그 후에, 웹 브라우저 안으로 markdown.md 파일을 drag & drop하면 됩니다. \n",
    "    - 만약, 수학 기호들이 잘 나오지 않으면, \"Markdown Preview Plus\" Options를 찾아 \"KaTeX support inline($math$ ...)\" 체크하십시오. "
   ]
  },
  {
   "cell_type": "markdown",
   "metadata": {},
   "source": [
    "## 제출할 파일: markdown.ipynb & markdown.md \n",
    "\n",
    "아래 그림은 웹 브라우저에서 테스트를 진행한 결과입니다. \n",
    "\n",
    "<img src=\"https://github.com/idebtor/DSpy/blob/263026640d1e8c042567f242545ce42ad23956e5/images/chap2/markdown2.jpg?raw=true\" width=900> "
   ]
  },
  {
   "cell_type": "markdown",
   "metadata": {},
   "source": [
    "# References & Resources\n",
    "\n",
    "마크다운에 대한 자세한 사용법은 아래 링크를 참조합니다.\n",
    "\n",
    "- [영어] DARING FIREBALL <http://daringfireball.net/projects/markdown/>\n",
    "- [한글] Markdown 사용법 총정리 <https://heropy.blog/2017/09/30/markdown/>\n",
    "- [한글] Markdown 6분 순삭 정리 <https://www.youtube.com/watch?v=kMEb_BzyUqk>\n",
    "\n"
   ]
  },
  {
   "cell_type": "markdown",
   "metadata": {},
   "source": [
    "-------\n",
    "__Be joyful always!__ 1 Thes.5:16"
   ]
  }
 ],
 "metadata": {
  "kernelspec": {
   "display_name": "Python 3",
   "language": "python",
   "name": "python3"
  },
  "language_info": {
   "codemirror_mode": {
    "name": "ipython",
    "version": 3
   },
   "file_extension": ".py",
   "mimetype": "text/x-python",
   "name": "python",
   "nbconvert_exporter": "python",
   "pygments_lexer": "ipython3",
   "version": "3.8.8"
  },
  "toc-autonumbering": true
 },
 "nbformat": 4,
 "nbformat_minor": 4
}
