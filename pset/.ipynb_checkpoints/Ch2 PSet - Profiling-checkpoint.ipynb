{
 "cells": [
  {
   "cell_type": "markdown",
   "id": "13f81c70",
   "metadata": {},
   "source": [
    "One thing I do know, I was blind but now I see. (John 9:25b)\n",
    "\n",
    "-------\n",
    "<img src=\"https://github.com/idebtor/DSpy/blob/6b3676c3de29f85d2e7f30679676d1fd96d88b17/images/WelcomeToDataStructures.jpg?raw=true\" width=1000>\n",
    "\n",
    "__NOTE:__ The following materials have been compiled and adapted from the numerous sources including my own. Please help me to keep this tutorial up-to-date by reporting any issues or questions. Send any comments or criticisms to `idebtor@gmail.com` Your assistances and comments will be appreciated.\n",
    "\n",
    "--------"
   ]
  },
  {
   "cell_type": "markdown",
   "id": "95431d18",
   "metadata": {},
   "source": [
    "\n",
    "<b style=\"font-size:30px\"> Problem Set 1 for Chapter 2 Performance Analysis  </b>\n",
    "\n",
    "Honor Code: On my honour, I pledge that I have neither received nor provided improper assistance \n",
    "in the completion of this assignment. \n",
    "Signed: 박예겸 Student Number: 21600277\n",
    "\n",
    "--------------\n"
   ]
  },
  {
   "cell_type": "markdown",
   "id": "54596d55-56b9-4a10-908c-01492f1ebacd",
   "metadata": {},
   "source": [
    "<b style=\"font-size:24px\"> Problem 1. 시간복잡도의 시각화</b>\n",
    "\n",
    "<b style=\"font-size:20px\"> Step 1: Pop(0) and Pop() Profiling  </b>"
   ]
  },
  {
   "cell_type": "markdown",
   "id": "2904bf01-d4cd-42cf-9f2c-e0905ec565c0",
   "metadata": {},
   "source": [
    "`pop(0)`와 `pop()` 연산의 시간 측정 결과를 시각화하기 위하여, 앞에서 우리가 다룬 코드를 변경하여 샘플의 갯수를 좀 더 세분화하여 1만개부터 시작하여 최대 100만개까지, 단계는 2만으로 계산합니다.  또한 타임 측정 결과도 리스트 형식으로 담아 저장합니다. 아래 실행 코드와 시각화 코드를 완성하여 아래와 같은 그래프를 가능한 동일하게 만들어 내십시오. \n",
    "\n",
    "__힌트:__ 코드를 test할 때 시간을 절약하기 위해서, timeit에서 사용하는 반복 횟수 옵션을 number=100 내지는 그 이하로 설정하고, 최종적으로는 그래프를 그리려면 number=1000을 사용하십시오. 이 때는 5분 이상 걸릴 수도 있습니다"
   ]
  },
  {
   "cell_type": "markdown",
   "id": "acf26eb9-410e-4035-9c70-9017bb6aa327",
   "metadata": {},
   "source": [
    "<center><img src=\"https://github.com/idebtor/DSpy/blob/c002e1e14c431052d19be9a9eb76fc4963899446/images/chap2/chapter2-10.png?raw=true\" width=500> </center>\n",
    "<center>그림1. pop(0)와 pop() 연산자의 시간복잡도 비교, timeit(number=1000)</center>"
   ]
  },
  {
   "cell_type": "code",
   "execution_count": 2,
   "id": "245a2ff3-5d4c-49f7-ad6d-26b172477127",
   "metadata": {},
   "outputs": [],
   "source": [
    "from timeit import Timer\n",
    "\n",
    "pop_zero = Timer(\"x.pop(0)\", \"from __main__ import x\")\n",
    "pop_last = Timer(\"x.pop( )\", \"from __main__ import x\")\n",
    "\n",
    "pop_zero_time = []\n",
    "pop_last_time = []\n",
    "n = []                   # list of samples or i \n",
    "\n",
    "for i in range(20_000, 1_000_001, 20_000):\n",
    "    # your code here\n",
    "    x = [n for n in range(i)]\n",
    "    zero_t = pop_zero.timeit(number = 1000)\n",
    "    pop_zero_time.append(zero_t)\n",
    "    \n",
    "    x = [n for n in range(i)]\n",
    "    last_t = pop_last.timeit(number = 1000)\n",
    "    pop_last_time.append(last_t)\n",
    "    \n",
    "    n.append(i)"
   ]
  },
  {
   "cell_type": "markdown",
   "id": "424e00f9-45dc-43c4-a041-3f647742cf72",
   "metadata": {
    "tags": []
   },
   "source": [
    "<b style=\"font-size:20px\"> Step 2: Pop(0) and Pop() Profiling 시각화  </b>\n",
    "\n",
    "아래의 시각화 코드를 완성하십시오. 시각화를 위해 scatter(), axvline(), axhline(), legend() 등과 같은 함수가 도움이 될 것이며, fontsize = 16을 사용합니다."
   ]
  },
  {
   "cell_type": "code",
   "execution_count": 3,
   "id": "74efd434-920d-4d73-8ab9-b49dcf37aa56",
   "metadata": {},
   "outputs": [
    {
     "data": {
      "image/png": "[encoded data removed]",
      "text/plain": [
       "<Figure size 576x432 with 1 Axes>"
      ]
     },
     "metadata": {
      "needs_background": "light"
     },
     "output_type": "display_data"
    }
   ],
   "source": [
    "import matplotlib.pylab as plt\n",
    "\n",
    "plt.figure(figsize=(8, 6))\n",
    "\n",
    "#None  # two lines for data\n",
    "a = plt.scatter(n,pop_zero_time,c='red')\n",
    "b = plt.scatter(n,pop_last_time,c='green',marker='^')\n",
    "#help(plt.scatter)\n",
    "\n",
    "plt.axvline(0, color='black', linewidth=0.5)\n",
    "plt.axhline(0, color='black', linewidth=0.5)\n",
    "plt.xlabel('n, number of samples', fontsize = 16)\n",
    "plt.ylabel('millisecond', fontsize = 16)\n",
    "plt.title('Time Complexity Comparison', fontsize = 16)\n",
    "plt.legend(handles=(a,b),labels=('pop(0)','pop()'),fontsize = 16)\n",
    "plt.show()"
   ]
  },
  {
   "cell_type": "markdown",
   "id": "a942049e-0393-44b8-8d01-d80ec2cc5cc3",
   "metadata": {},
   "source": [
    "\n",
    "<b style=\"font-size:20px\"> Step 3: 리스트와 딕셔너리 Profiling  </b>"
   ]
  },
  {
   "cell_type": "markdown",
   "id": "ca086ad5-8d14-4d26-8189-14db8e4d932b",
   "metadata": {},
   "source": [
    "리스트와 딕셔너리의 container 연산의 시간복잡도 측정 결과를 시각화하기 위하여, 앞에서 우리가 다룬 코드를 변경하여 샘플의 갯수를 좀 더 세분화하여 1만개부터 시작하여 최대 100만개까지, 단계는 2만으로 계산합니다. (5분 이상 걸릴 수도 있습니다) 또한 타임 측정 결과도 리스트 형식으로 담아 저장합니다. 아래 실행 코드와 시각화 코드를 완성하여 아래와 같은 그래프를 가능한 동일하게 만들어 내십시오. \n",
    "\n",
    "__힌트:__ 시간을 절약하기 위해 test할 때는, timeit에서 사용하는 반복 횟수 옵션을 number=100 내지는 그 이하로 설정하고, 최종적으로는 그래프를 그리려면 number=1000을 사용하십시오. 이 때는 5분 이상 걸릴 수도 있습니다"
   ]
  },
  {
   "cell_type": "markdown",
   "id": "5829bbe3-08dc-46e1-9971-eec256ff37f5",
   "metadata": {},
   "source": [
    "<center><img src=\"https://github.com/idebtor/DSpy/blob/e0bf464a2abef20770242bd02a721a9246d16b3b/images/chap2/chapter2-9.png?raw=true\" width=500> </center>\n",
    "<center>그림2. 리스트와 딕셔너리 연산자의 시간복잡도 비교, timeit(number=1000)</center>"
   ]
  },
  {
   "cell_type": "code",
   "execution_count": 4,
   "id": "4ecc9685",
   "metadata": {},
   "outputs": [],
   "source": [
    "from timeit import Timer\n",
    "import random\n",
    "\n",
    "list_time = []    # list of list_time values\n",
    "dict_time = []    # list of dict_time values\n",
    "n = []            # list of samples or i \n",
    "\n",
    "for i in range(20_000, 1_000_001, 20_000):\n",
    "    \n",
    "    t = Timer(f\"random.randrange({i}) in x\", \"from __main__ import random, x\")\n",
    "    x = [n for n in range(i)]\n",
    "    list_t = t.timeit(number=1000)\n",
    "    list_time.append(list_t)\n",
    "    \n",
    "    x = {n : None for n in range(i)}\n",
    "    dict_t = t.timeit(number=1000)\n",
    "    dict_time.append(dict_t)\n",
    "    \n",
    "    n.append(i)"
   ]
  },
  {
   "cell_type": "markdown",
   "id": "137bedbf",
   "metadata": {},
   "source": [
    "<b style=\"font-size:20px\"> Step 4: 리스트와 딕션너리의 in 연산자 Profiling 시각화  </b>\n",
    "\n",
    "아래의 시각화 코드를 완성하십시오. 시각화를 위해 scatter(), axvline(), axhline(), legend() 등과 같은 함수가 도움이 될 것이며, fontsize = 16를 사용합니다."
   ]
  },
  {
   "cell_type": "code",
   "execution_count": 5,
   "id": "16982c59",
   "metadata": {
    "tags": []
   },
   "outputs": [
    {
     "data": {
      "image/png": "[encoded data removed]",
      "text/plain": [
       "<Figure size 576x432 with 1 Axes>"
      ]
     },
     "metadata": {
      "needs_background": "light"
     },
     "output_type": "display_data"
    }
   ],
   "source": [
    "import matplotlib.pylab as plt\n",
    "\n",
    "plt.figure(figsize=(8, 6))\n",
    "\n",
    "#None  # two lines for data\n",
    "\n",
    "a = plt.scatter(n,list_time,c='red')\n",
    "b = plt.scatter(n,dict_time,c='green',marker='^')\n",
    "\n",
    "plt.axvline(0, color='black', linewidth=0.5)\n",
    "plt.axhline(0, color='black', linewidth=0.5)\n",
    "plt.xlabel('n, number of samples', fontsize = 16)\n",
    "plt.ylabel('millisecond', fontsize = 16)\n",
    "plt.title('Time Complexity Comparison', fontsize = 16)\n",
    "plt.legend(handles=(a,b),labels=('list','dictionary'),fontsize = 16)\n",
    "plt.show()"
   ]
  },
  {
   "cell_type": "markdown",
   "id": "34c4f2b3-339f-424a-b7ef-091b2f226b67",
   "metadata": {},
   "source": [
    "<b style=\"font-size:24px\"> Problem 2. Sort Algorithms Performance Analysis</b>\n",
    "\n",
    "파이썬은 기본적으로 정렬(sort)함수가 내장되어 있습니다. 파이썬의 정렬함수는 timsort 알고리즘으로 알려져 있습니다. 이러한 팀소트 알고리즘과 고전적인 삽입정렬(insertion sort)알고리즘의 성능을 비교 분석하고자 합니다. "
   ]
  },
  {
   "cell_type": "markdown",
   "id": "4d39c5cc-1ae2-4cbd-a055-8e82e1fc4fe7",
   "metadata": {},
   "source": [
    "<b style=\"font-size:20px\"> Step 1: 팀소트 Profiling </b>\n",
    "    \n",
    "팀소트 알고리즘 실행하여 다음과 같은 형식으로 실행 시간들을 산출하십시오.\n",
    "    \n",
    "__Sample Run:__\n",
    "```\n",
    "         n   timsort\n",
    "   100,000    0.0558\n",
    "   200,000    0.1270\n",
    "   300,000    0.2020\n",
    "   400,000    0.3160\n",
    "   500,000    0.4185\n",
    "   600,000    0.4760\n",
    "   700,000    0.5713\n",
    "   800,000    0.6805\n",
    "   900,000    0.7897\n",
    " 1,000,000    0.8776\n",
    " ```"
   ]
  },
  {
   "cell_type": "code",
   "execution_count": 13,
   "id": "fdbbece7-8d98-452c-81f1-21ffe7281f43",
   "metadata": {},
   "outputs": [
    {
     "name": "stdout",
     "output_type": "stream",
     "text": [
      "         n   timsort\n",
      "   100,000    0.0633\n",
      "   200,000    0.1531\n",
      "   300,000    0.2122\n",
      "   400,000    0.3137\n",
      "   500,000    0.3716\n",
      "   600,000    0.4459\n",
      "   700,000    0.5146\n",
      "   800,000    0.6080\n",
      "   900,000    0.6727\n",
      " 1,000,000    0.7922\n"
     ]
    }
   ],
   "source": [
    "import timeit\n",
    "import random\n",
    "\n",
    "print(f\"{'n':>10s}{'timsort':>10s}\")\n",
    "\n",
    "for i in range(100_000, 10_00_001, 100_000):\n",
    "    x = list(range(i))\n",
    "    random.shuffle(x)\n",
    "    t = Timer(\"x.sort()\", \"from __main__ import x\")\n",
    "    timsort_time = t.timeit(100)\n",
    "    \n",
    "    print(f\"{i: >10,}{timsort_time: >10.4f}\")"
   ]
  },
  {
   "cell_type": "markdown",
   "id": "f528bcd4-e8b5-45bf-af09-aee4ba9d7b9e",
   "metadata": {},
   "source": [
    "<b style=\"font-size:20px\"> Step 2: 팀소트 Growth Rate</b>\n",
    "\n",
    "자신의 컴퓨터에서 실제적으로 측정한 실행시간으로부터 Growth Rate를 계산하십시오. 샘플의 수가 (n = 200,000과 n = 400,000)의 경우를 사용하십시오. 아래 식의 $a$와 $b$를 구하는 것입니다. 이를 이용하여 샘플의 크기 n = 1,000,000 일 때의 실행 시간을 예측하십시오.  \n",
    "\n",
    "\\begin{align}\n",
    "                                T(n) = a N^b\n",
    "\\end{align}\n",
    "\n",
    "__Solutions:__ your answer here:\n",
    "\\begin{align}\n",
    "T(n) &= 4.99x10^{-7} N^{1.035}  \\\\\n",
    "T(10^6) &=  0.8093\\\\\n",
    "\\end{align}"
   ]
  },
  {
   "cell_type": "markdown",
   "id": "d35abfd7-1e1d-4a83-b7e5-7feff759a80d",
   "metadata": {},
   "source": [
    "<b style=\"font-size:20px\"> Step 3: 삽입정렬(insertion sort) Profiling </b>\n",
    "\n",
    "삽입정렬을 실행하여 다음과 같은 형식으로 실행 시간들을 산출하십시오. timeit()의 옵션 number 설정을 크게하면 시간을 오래 걸립니다. 처음에 코딩할 때는 다소 작은 수를 설정하여 시작하는 것이 한 방법입니다.\n",
    "\n",
    "__Sample Run:__\n",
    "```\n",
    "         n insertion\n",
    "     1,000    0.0700\n",
    "     2,000    0.2651\n",
    "     3,000    0.5851\n",
    "     4,000    1.0253\n",
    "     5,000    1.5938\n",
    "     6,000    2.2087\n",
    "     7,000    2.9957\n",
    "     8,000    4.0640\n",
    "     9,000    5.0401\n",
    "    10,000    6.2439\n",
    " ```"
   ]
  },
  {
   "cell_type": "code",
   "execution_count": 94,
   "id": "07418e1b-263e-464e-8fad-ff0f490087b3",
   "metadata": {},
   "outputs": [],
   "source": [
    "def insertion(arr):\n",
    "    for end in range(1, len(arr)):\n",
    "        i = end\n",
    "        while i > 0 and arr[i - 1] > arr[i]:\n",
    "            arr[i - 1], arr[i] = arr[i], arr[i - 1]\n",
    "            i -= 1"
   ]
  },
  {
   "cell_type": "code",
   "execution_count": 95,
   "id": "7b09cf85-8aea-4577-8623-0d2ca6a12e05",
   "metadata": {},
   "outputs": [
    {
     "name": "stdout",
     "output_type": "stream",
     "text": [
      "         n insertion\n",
      "     1,000    0.0708\n",
      "     2,000    0.2604\n",
      "     3,000    0.5829\n",
      "     4,000    1.0372\n",
      "     5,000    1.4667\n",
      "     6,000    2.2653\n",
      "     7,000    3.0270\n",
      "     8,000    3.8815\n",
      "     9,000    5.0114\n",
      "    10,000    6.4484\n"
     ]
    }
   ],
   "source": [
    "import timeit\n",
    "import random\n",
    "\n",
    "print(f\"{'n':>10s}{'insertion':>10s}\")\n",
    "\n",
    "for i in range(1_000, 10_001, 1_000):\n",
    "    x = list(range(i))\n",
    "    random.shuffle(x)\n",
    "    t = Timer(\"insertion(x)\", \"from __main__ import insertion, x\")\n",
    "    insertion_time = t.timeit(100)\n",
    "    \n",
    "    \n",
    "    print(f\"{i: >10,}{insertion_time: >10.4f}\")"
   ]
  },
  {
   "cell_type": "markdown",
   "id": "490c81ae-bfe9-4dac-9a5a-b19a913f24c5",
   "metadata": {},
   "source": [
    "<b style=\"font-size:20px\"> Step 4: 삽입정렬의 Growth Rate</b>\n",
    "\n",
    "자신의 컴퓨터에서 실제적으로 측정한 실행시간으로부터 Growth Rate를 계산하십시오. (n = 4,000과 n = 8,000)의 경우를 사용하십시오. 아래 식의 $a$와 $b$를 구하는 것입니다. 이를 이용하여 샘플의 크기 n = 1,000,000 일 때의 실행 시간을 예측하십시오.  \n",
    "\n",
    "\\begin{align}\n",
    "                                T(n) = a N^b\n",
    "\\end{align}\n",
    "\n",
    "__Solutions:__ your answer here:\n",
    "\\begin{align}\n",
    "T(n) &= 1.44x10^{-7} N^{1.904}   \\\\\n",
    "T(10^6) &=  38226.32\\\\\n",
    "\\end{align}"
   ]
  },
  {
   "cell_type": "markdown",
   "id": "2c9c705f-aa49-45f6-8eca-069ab4ce8aa4",
   "metadata": {},
   "source": [
    "<b style=\"font-size:20px\"> Step 5: 팀소트와 삽입정렬의 Growth Rates 비교</b>\n",
    "\n",
    "팀소트와 삽입정렬의 Growth Rate를 상호 비교하기 위하여, 두 정렬 알고리즘을 함께 실행하여 아래와 같이 형식의 Profiling 결과를 도출하십시오.  \n",
    "\n",
    "__Sample Run:__\n",
    "```\n",
    "         n   timsort insertion\n",
    "     2,000    0.0004    0.4356\n",
    "     4,000    0.0005    1.1322\n",
    "     6,000    0.0008    2.5748\n",
    "     8,000    0.0022    4.1878\n",
    "    10,000    0.0013    6.4006\n",
    "    12,000    0.0017    9.3310\n",
    "    14,000    0.0020   12.2513\n",
    "    16,000    0.0023   16.1699\n",
    "    18,000    0.0026   20.0950\n",
    "    20,000    0.0034   25.6012\n",
    "```"
   ]
  },
  {
   "cell_type": "code",
   "execution_count": 97,
   "id": "145a4a90-e30d-447e-85cb-dda760305f74",
   "metadata": {
    "tags": []
   },
   "outputs": [
    {
     "name": "stdout",
     "output_type": "stream",
     "text": [
      "         n   timsort insertion\n",
      "     2,000    0.0010    0.2642\n",
      "     4,000    0.0017    0.9391\n",
      "     6,000    0.0025    2.2930\n",
      "     8,000    0.0040    3.9903\n",
      "    10,000    0.0057    6.0999\n",
      "    12,000    0.0061    8.4818\n",
      "    14,000    0.0066   11.7161\n",
      "    16,000    0.0077   15.3336\n",
      "    18,000    0.0085   18.8471\n",
      "    20,000    0.0098   23.2621\n"
     ]
    }
   ],
   "source": [
    "import random\n",
    "import timeit\n",
    "\n",
    "timsort_time = []      # list of timsort running time\n",
    "insertion_time = []    # list of insertion sort running time\n",
    "n = []                 # list of samples or i - save it for graph\n",
    "\n",
    "print(f\"{'n':>10s}{'timsort':>10s}{'insertion':>10s}\")\n",
    "\n",
    "for i in range(2000, 20_001, 2000):\n",
    "    x = list(range(i))\n",
    "    random.shuffle(x)\n",
    "    \n",
    "    t = Timer(\"x.sort()\", \"from __main__ import x\")\n",
    "    timsort_t = t.timeit(100)\n",
    "    timsort_time.append(timsort_t)\n",
    "    \n",
    "    random.shuffle(x)\n",
    "    t = Timer(\"insertion(x)\", \"from __main__ import insertion, x\")\n",
    "    insertion_t = t.timeit(100)\n",
    "    insertion_time.append(insertion_t)\n",
    "    \n",
    "    n.append(i)   \n",
    "    print(f\"{i: >10,}{timsort_t: >10.4f}{insertion_t: >10.4f}\")"
   ]
  },
  {
   "cell_type": "markdown",
   "id": "7c1ddbae-3c1b-4b61-8a17-d04f5c9ef0e3",
   "metadata": {
    "tags": []
   },
   "source": [
    "<b style=\"font-size:20px\"> Step 6: 팀소트와 삽입정렬의 Growth Rates 시각화 </b>\n",
    "\n",
    "팀소트와 삽입정렬의 Growth Rates를 상호 비교하기 위하여 두 정렬 알고리즘을 동시에 실행하여 얻은 Profiling 결과를 시각화 하십시오.\n",
    "\n",
    "__Sample Run:__\n",
    "\n",
    "<center><img src=\"https://github.com/idebtor/DSpy/blob/4811a70ab4e080ba631094e5516359ffc493e94a/images/chap2/chapter2-11.png?raw=true\" width=500> </center>\n",
    "<center>그림3. 파이썬의 팀소트와 삽입정령의 Growth Rates 비교</center>\n",
    "\n",
    "\n"
   ]
  },
  {
   "cell_type": "code",
   "execution_count": 98,
   "id": "68ac5da7-e665-4f99-aff4-db4445ece929",
   "metadata": {},
   "outputs": [
    {
     "data": {
      "image/png": "[encoded data removed]",
      "text/plain": [
       "<Figure size 576x432 with 1 Axes>"
      ]
     },
     "metadata": {
      "needs_background": "light"
     },
     "output_type": "display_data"
    }
   ],
   "source": [
    "import matplotlib.pylab as plt\n",
    "\n",
    "plt.figure(figsize=(8, 6))\n",
    "\n",
    "a = plt.scatter(n,insertion_time,c='red')\n",
    "b = plt.scatter(n,timsort_time,c='green',marker='^')\n",
    "\n",
    "plt.axvline(0, color='black', linewidth=0.5)\n",
    "plt.axhline(0, color='black', linewidth=0.5)\n",
    "plt.xlabel('n, number of samples', fontsize = 16)\n",
    "plt.ylabel('millisecond', fontsize = 16)\n",
    "plt.title('Time Complexity Comparison', fontsize = 16)\n",
    "plt.legend(handles=(a,b),labels=('insertion sort','timsort'),fontsize = 16)\n",
    "plt.show()"
   ]
  },
  {
   "cell_type": "markdown",
   "id": "9b4ad155",
   "metadata": {},
   "source": [
    "# 참고자료\n",
    "- Problem Solving with Algorithms and Data Structures using Python, [Here](https://runestone.academy/runestone/books/published/pythonds3/AlgorithmAnalysis/Lists.html)\n"
   ]
  }
 ],
 "metadata": {
  "kernelspec": {
   "display_name": "Python 3",
   "language": "python",
   "name": "python3"
  },
  "language_info": {
   "codemirror_mode": {
    "name": "ipython",
    "version": 3
   },
   "file_extension": ".py",
   "mimetype": "text/x-python",
   "name": "python",
   "nbconvert_exporter": "python",
   "pygments_lexer": "ipython3",
   "version": "3.8.5"
  },
  "toc-autonumbering": true
 },
 "nbformat": 4,
 "nbformat_minor": 5
}
