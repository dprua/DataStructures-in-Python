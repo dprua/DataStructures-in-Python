{
 "cells": [
  {
   "cell_type": "markdown",
   "metadata": {},
   "source": [
    "The fear of the LORD is the beginning of knowledge, but fools despise wisdom and discipline. Proverbs 1:7\n",
    "\n",
    "-------\n",
    "\n",
    "Honor Code: On my honour, I pledge that I have neither received nor provided improper assistance \n",
    "in the completion of this assignment. \n",
    "Signed: 박예겸 Student Number: 21600277"
   ]
  },
  {
   "cell_type": "markdown",
   "metadata": {},
   "source": [
    "<img src=\"https://github.com/idebtor/DSpy/blob/cab9662b5ff01661ef8034289c92287d02b8e1ed/images/chap2/markdown_tutorial.jpg?raw=true\" width=1000>\n",
    "\n",
    "----"
   ]
  },
  {
   "cell_type": "markdown",
   "metadata": {},
   "source": [
    "# [퍼셉트론](https://en.wikipedia.org/wiki/Perceptron) 알고리즘"
   ]
  },
  {
   "cell_type": "markdown",
   "metadata": {},
   "source": [
    "## 알고리즘$^{algorithm}$"
   ]
  },
  {
   "cell_type": "markdown",
   "metadata": {},
   "source": [
    "우리가 구하고자 하는 것은 입력한 $x$들을 분류해 낼 수 있는 가중치 $w$인데, [로젠블라크](https://en.wikipedia.org/wiki/Frank_Rosenblatt)가 처음 제안한 학습 알고리즘은 다음과 같이 요약할 수 있습니다."
   ]
  },
  {
   "cell_type": "markdown",
   "metadata": {},
   "source": [
    "1. 가중치를 0 혹은 무작위 작은 수로 초기화 한다.\n",
    "1. 각 학습 자료$^{Training Sample} x^{(i)}$에 대해 다음을 실행한다.\n",
    "    - 출력 $\\hat{y}$를 계산한다. 즉 $\\hat{y} = h(\\mathbf{w^Tx})$\n",
    "    - 가중지 $w_j$를 조정한다. 즉 $w_j := w_j + \\Delta w_j$\n",
    "<center><img src = \"https://github.com/idebtor/KMOOC-ML/blob/master/ipynb/images/person.png?raw=true\" width=200 ><br>\n",
    "그림 1:마크다운 문석 작성하기\n",
    "</center>"
   ]
  },
  {
   "cell_type": "code",
   "execution_count": null,
   "metadata": {},
   "outputs": [],
   "source": []
  }
 ],
 "metadata": {
  "kernelspec": {
   "display_name": "Python 3",
   "language": "python",
   "name": "python3"
  },
  "language_info": {
   "codemirror_mode": {
    "name": "ipython",
    "version": 3
   },
   "file_extension": ".py",
   "mimetype": "text/x-python",
   "name": "python",
   "nbconvert_exporter": "python",
   "pygments_lexer": "ipython3",
   "version": "3.8.5"
  },
  "toc-autonumbering": true
 },
 "nbformat": 4,
 "nbformat_minor": 4
}
