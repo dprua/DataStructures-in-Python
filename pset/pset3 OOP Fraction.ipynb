{
 "cells": [
  {
   "cell_type": "markdown",
   "metadata": {},
   "source": [
    "__Welcome to \"Data Structures in Python\"__    \n",
    "Lecture Notes by idebtor@gmail.com, Handong Global University\n",
    "\n",
    "# PSet 3A: Ch1-5 OOP Fraction Class\n",
    "\n",
    "Honor Code: \n",
    "\n",
    "## Define a class `Fraction`\n",
    "- As you go through some functionalities shown below, add methods necessary in the class."
   ]
  },
  {
   "cell_type": "code",
   "execution_count": 102,
   "metadata": {},
   "outputs": [],
   "source": [
    "class Fraction:\n",
    "    def __init__(self,x,y):\n",
    "        self.gcd = Fraction.gcd(x,y)\n",
    "        self.x = x\n",
    "        self.y = y\n",
    "    def __add__(self,other):\n",
    "        return str((self.x*other.y + other.x*self.y))+'/'+str((self.y*other.y))\n",
    "    def __sub__(self,other):\n",
    "        return str((self.x*other.y - other.x*self.y))+'/'+str((self.y*other.y))\n",
    "    def __eq__(self,other):\n",
    "        if not isinstance(other,Fraction):\n",
    "            return False\n",
    "        return self.x*other.y == other.x*self.y\n",
    "    def gcd(m,n):\n",
    "        while m % n != 0:\n",
    "            old_m = m\n",
    "            old_n = n\n",
    "            m = old_n\n",
    "            n = old_m % old_n\n",
    "        return n\n",
    "    def __str__(self):\n",
    "        return str(int(self.x/self.gcd))+'/'+str(int(self.y/self.gcd))\n",
    "    def __truediv__(self, other):\n",
    "        return str(self.x * other.y) + '/' + str(self.y * other.x)\n",
    "    def __lt__(self,other):\n",
    "        num1 = self.x * other.y\n",
    "        num2 = other.x * self.y\n",
    "        return num1 < num2\n",
    "    def __mul__(self,other):\n",
    "        if isinstance(other, Fraction):\n",
    "            x = self.x * other.x\n",
    "            y = self.y * other.y\n",
    "            return Fraction(x,y)\n",
    "        else:\n",
    "            x = self.x * other\n",
    "            return Fraction(x,self.y)\n",
    "    def __rmul__(self,other):\n",
    "        x = self.x * other\n",
    "        return Fraction(x,self.y)\n",
    "    def __iadd__(self,other):\n",
    "        x = self.x * other.y + other.x*self.y\n",
    "        y = self.y * other.y\n",
    "        gcd = Fraction.gcd(x,y)\n",
    "        self.x = x // gcd\n",
    "        self.y = y // gcd\n",
    "        return self\n",
    "    pass\n",
    "    "
   ]
  },
  {
   "cell_type": "markdown",
   "metadata": {},
   "source": [
    "### Add\n",
    "\n",
    "Write a method to make the test case in __Sample Run__ work. \n",
    "\n",
    "__Sample Run:__\n",
    "```\n",
    "x = Fraction(1, 2)\n",
    "y = Fraction(1, 4)\n",
    "z = x + y\n",
    "print(z)               # 6/8\n",
    "```\n",
    "__Expected Output:__\n",
    "```\n",
    "6/8\n",
    "```"
   ]
  },
  {
   "cell_type": "code",
   "execution_count": 103,
   "metadata": {},
   "outputs": [
    {
     "name": "stdout",
     "output_type": "stream",
     "text": [
      "6/8\n"
     ]
    }
   ],
   "source": [
    "x = Fraction(1, 2)\n",
    "y = Fraction(1, 4)\n",
    "z = x + y\n",
    "print(z)"
   ]
  },
  {
   "cell_type": "markdown",
   "metadata": {},
   "source": [
    "### Subtract \n",
    "Write a method to make the test case in __Sample Run__ work. \n",
    "\n",
    "__Sample Run:__\n",
    "```\n",
    "x = Fraction(1, 2)\n",
    "y = Fraction(1, 4)\n",
    "z = x - y\n",
    "print(z)               # 2/8\n",
    "```\n",
    "__Expected Output:__\n",
    "```\n",
    "2/8\n",
    "```"
   ]
  },
  {
   "cell_type": "code",
   "execution_count": 104,
   "metadata": {},
   "outputs": [
    {
     "name": "stdout",
     "output_type": "stream",
     "text": [
      "2/8\n"
     ]
    }
   ],
   "source": [
    "x = Fraction(1, 2)\n",
    "y = Fraction(1, 4)\n",
    "z = x - y\n",
    "print(z)"
   ]
  },
  {
   "cell_type": "markdown",
   "metadata": {},
   "source": [
    "### Equality \n",
    "\n",
    "Write a method to make the test case in __Sample Run__ work. \n",
    "\n",
    "__Sample Run:__\n",
    "```\n",
    "x = Fraction(12, 30)\n",
    "y = Fraction(2, 5)\n",
    "print(x == y)         # True\n",
    "```\n",
    "__Expected Output:__\n",
    "```\n",
    "True\n",
    "```"
   ]
  },
  {
   "cell_type": "code",
   "execution_count": 105,
   "metadata": {},
   "outputs": [
    {
     "name": "stdout",
     "output_type": "stream",
     "text": [
      "True\n"
     ]
    }
   ],
   "source": [
    "x = Fraction(12, 30)\n",
    "y = Fraction(2, 5)\n",
    "print(x == y)"
   ]
  },
  {
   "cell_type": "markdown",
   "metadata": {},
   "source": [
    "### Equality \n",
    "Write a method to make the test case in __Sample Run__ work.\n",
    "\n",
    "__Sample Run:__\n",
    "```\n",
    "x = Fraction(4, 1)\n",
    "y = Fraction(1, 4)\n",
    "print(x == y)         # False\n",
    "```\n",
    "__Expected Output:__\n",
    "```\n",
    "# False\n",
    "```"
   ]
  },
  {
   "cell_type": "code",
   "execution_count": 106,
   "metadata": {},
   "outputs": [
    {
     "name": "stdout",
     "output_type": "stream",
     "text": [
      "False\n"
     ]
    }
   ],
   "source": [
    "x = Fraction(4, 1)\n",
    "y = Fraction(1, 4)\n",
    "print(x == y) "
   ]
  },
  {
   "cell_type": "markdown",
   "metadata": {},
   "source": [
    "### Checking the type of the other operand\n",
    "\n",
    "Write a method to make the test case in __Sample Run__ work.\n",
    "\n",
    "__Sample Run:__\n",
    "```\n",
    "x = Fraction(2, 3)\n",
    "print(x == 2)         # False\n",
    "```\n",
    "__Expected Output:__\n",
    "```\n",
    "# False\n",
    "```"
   ]
  },
  {
   "cell_type": "code",
   "execution_count": 107,
   "metadata": {},
   "outputs": [
    {
     "name": "stdout",
     "output_type": "stream",
     "text": [
      "False\n"
     ]
    }
   ],
   "source": [
    "x = Fraction(2, 3)\n",
    "print(x == 2)"
   ]
  },
  {
   "cell_type": "markdown",
   "metadata": {},
   "source": [
    "### Using GCD \n",
    "\n",
    "Write a method to make the test case in __Sample Run__ work.\n",
    "\n",
    "__Sample Run:__\n",
    "```\n",
    "x = Fraction(12,30)  \n",
    "y = Fraction(2, 5)      \n",
    "print (x == y)          # True\n",
    "print(x)                # 2/5\n",
    "print(y)                # 2/5\n",
    "```\n",
    "__Expected Output:__\n",
    "```\n",
    "True\n",
    "2/5\n",
    "2/5\n",
    "```"
   ]
  },
  {
   "cell_type": "code",
   "execution_count": 108,
   "metadata": {},
   "outputs": [
    {
     "name": "stdout",
     "output_type": "stream",
     "text": [
      "True\n",
      "2/5\n",
      "2/5\n"
     ]
    }
   ],
   "source": [
    "x = Fraction(12,30)  \n",
    "y = Fraction(2, 5)      \n",
    "print (x == y)          # True\n",
    "print(x)                # 2/5\n",
    "print(y)"
   ]
  },
  {
   "cell_type": "markdown",
   "metadata": {},
   "source": [
    "### True Division\n",
    "\n",
    "Write a method to make the test case in __Sample Run__ work.\n",
    "\n",
    "__Sample Run:__\n",
    "```\n",
    "a = Fraction(1, 3)  \n",
    "b = Fraction(4, 5)  \n",
    "d = a / b\n",
    "print (d)              # 5/12\n",
    "```\n",
    "__Expected Output:__\n",
    "```\n",
    "5/12\n",
    "```"
   ]
  },
  {
   "cell_type": "code",
   "execution_count": 109,
   "metadata": {},
   "outputs": [
    {
     "name": "stdout",
     "output_type": "stream",
     "text": [
      "5/12\n"
     ]
    }
   ],
   "source": [
    "a = Fraction(1, 3)  \n",
    "b = Fraction(4, 5)  \n",
    "d = a / b\n",
    "print (d) "
   ]
  },
  {
   "cell_type": "markdown",
   "metadata": {},
   "source": [
    "### __lt__ comparator\n",
    "\n",
    "Write a method to make the test case in __Sample Run__ work.\n",
    "\n",
    "__Sample Run:__\n",
    "```\n",
    "a = Fraction(1, 3)  \n",
    "b = Fraction(4, 5)  \n",
    "if a < b:\n",
    "    print(\"a < b\")\n",
    "else:\n",
    "    print(\"a >= b\")\n",
    "```\n",
    "\n",
    "__Expected Output:__\n",
    "```\n",
    "a < b\n",
    "```\n"
   ]
  },
  {
   "cell_type": "code",
   "execution_count": 110,
   "metadata": {},
   "outputs": [
    {
     "name": "stdout",
     "output_type": "stream",
     "text": [
      "a < b\n"
     ]
    }
   ],
   "source": [
    "a = Fraction(1, 3)  \n",
    "b = Fraction(4, 5)  \n",
    "if a < b:\n",
    "    print(\"a < b\")\n",
    "else:\n",
    "    print(\"a >= b\")"
   ]
  },
  {
   "cell_type": "markdown",
   "metadata": {},
   "source": [
    "### Multiply\n",
    "\n",
    "Write a method to make the test case in __Sample Run__ work.\n",
    "\n",
    "__Sample Run:__\n",
    "```\n",
    "x = Fraction(2,3)  \n",
    "y = Fraction(1,3)  \n",
    "p = x * y  \n",
    "print(p)\n",
    "print(x * 2)\n",
    "print(2 * x)\n",
    "```\n",
    "__Expected Output:__\n",
    "```\n",
    "2/9\n",
    "4/3\n",
    "4/3\n",
    "```"
   ]
  },
  {
   "cell_type": "code",
   "execution_count": 111,
   "metadata": {},
   "outputs": [
    {
     "name": "stdout",
     "output_type": "stream",
     "text": [
      "2/9\n",
      "4/3\n",
      "4/3\n"
     ]
    }
   ],
   "source": [
    "x = Fraction(2,3)  \n",
    "y = Fraction(1,3)  \n",
    "p = x * y  \n",
    "print(p)\n",
    "print(x * 2)\n",
    "print(2 * x)"
   ]
  },
  {
   "cell_type": "markdown",
   "metadata": {},
   "source": [
    "### In-Place operators\n",
    "\n",
    "Write a method to make the test case in __Sample Run__ work.\n",
    "\n",
    "__Sample Run:__\n",
    "```\n",
    "x = Fraction(2,3)  \n",
    "y = Fraction(1,3)  \n",
    "x += y  \n",
    "print(x)\n",
    "```\n",
    "__Expected Output:__\n",
    "```\n",
    "1/1\n",
    "```"
   ]
  },
  {
   "cell_type": "code",
   "execution_count": 112,
   "metadata": {},
   "outputs": [
    {
     "name": "stdout",
     "output_type": "stream",
     "text": [
      "1/1\n"
     ]
    }
   ],
   "source": [
    "x = Fraction(2,3)  \n",
    "y = Fraction(1,3)  \n",
    "x += y  \n",
    "print(x)"
   ]
  },
  {
   "cell_type": "markdown",
   "metadata": {},
   "source": [
    "---------------\n",
    "# PSet 3B: Ch1-5 OOP Geometry Class\n",
    "\n",
    "Honor Code: \n",
    "\n",
    "## Load `Geometry.py` in the following code cell.\n",
    "- Once we load `Geometry.py` module that we started coding during the previous lessons, we want to add some more functionality to the module .  "
   ]
  },
  {
   "cell_type": "code",
   "execution_count": 113,
   "metadata": {},
   "outputs": [],
   "source": [
    "# %load Geometry.py\n",
    "\n",
    "class Point:\n",
    "    # your code here\n",
    "    def __init__(self,x,y):\n",
    "        self.x = x\n",
    "        self.y = y\n",
    "    def __str__(self):\n",
    "        return 'Point({}, {})'.format(self.x, self.y)\n",
    "        #return 'A point at ({}, {})'.format(self.x, self.y)\n",
    "    def __repr__(self):\n",
    "        return 'Point({}, {})'.format(self.x, self.y)\n",
    "    def __add__(self,other):\n",
    "        if isinstance(other,Point):\n",
    "            x = self.x + other.x\n",
    "            y = self.y + other.y\n",
    "        else:\n",
    "            x = self.x + other\n",
    "            y = self.y + other\n",
    "        return Point(x,y)\n",
    "    def __radd__(self,other):\n",
    "        x = self.x + other\n",
    "        y = self.y + other\n",
    "        return Point(x,y)\n",
    "    def __mul__(self,other):\n",
    "        if isinstance(other, Point):\n",
    "            num1 = self.x*other.x + self.y*other.y\n",
    "            return num1\n",
    "        else:\n",
    "            x = self.x * other\n",
    "            y = self.y * other\n",
    "            return Point(x,y)\n",
    "    def __rmul__(self,other):\n",
    "        x = self.x * other\n",
    "        y = self.y * other\n",
    "        return Point(x,y)\n",
    "        \n",
    "    def halfway(self,point):\n",
    "        a = (point.x + self.x) / 2\n",
    "        b = (point.y + self.y) / 2\n",
    "        return Point(a,b)\n",
    "    def midpoint(a,b):\n",
    "        return Point((a.x+b.x)/2,(a.y+b.y)/2)\n",
    "    def reflect_x(self):\n",
    "        return Point(self.x,-self.y)\n",
    "    def slope_to_origin(self):\n",
    "        dx = self.x - 0.0\n",
    "        dy = self.y - 0.0\n",
    "        return dy/dx\n",
    "    pass\n",
    "\n",
    "class Square:\n",
    "    def __init__(self,line):\n",
    "        self.line = line\n",
    "    def __str__(self):\n",
    "        #return '{} x {} Square'.format(self.line,self.line)\n",
    "        return 'Square({})'.format(self.line)\n",
    "    def __repr__(self):\n",
    "        return 'Square({})'.format(self.line)\n",
    "    def __iadd__(self,other):\n",
    "        if isinstance(other, Square):\n",
    "            self.line = self.line + other.line\n",
    "            return self\n",
    "        else:\n",
    "            self.line = self.line + other\n",
    "            return self\n",
    "    def __isub__(self,other):\n",
    "        if isinstance(other, Square):\n",
    "            self.line = self.line - other.line\n",
    "            return self\n",
    "        else:\n",
    "            self.line = self.line - other\n",
    "            return self\n",
    "    def perimeter(self):\n",
    "        return 4*self.line\n",
    "    def area(self):\n",
    "        return self.line * self.line\n",
    "\n",
    "class Circle:\n",
    "    def __init__(self,r=0):\n",
    "        self.__radius = r\n",
    "    def __str__(self):\n",
    "        #return 'A circle with a radius of {}cm'.format(self.__radius)\n",
    "        return 'Circle({})'.format(self.__radius)\n",
    "    def __repr__(self):\n",
    "        return 'Circle({})'.format(self.__radius)\n",
    "    def __add__(self,other):\n",
    "        if isinstance(other, Circle):\n",
    "            r = self.__radius + other.__radius\n",
    "            return Circle(r)\n",
    "        else:\n",
    "            r = self.__radius + other\n",
    "            return Circle(r)\n",
    "    def __radd__(self,other):\n",
    "        r = self.__radius + other\n",
    "        return Circle(r)\n",
    "    def __mul__(self,other):\n",
    "        if isinstance(other, Circle):\n",
    "            r = self.__radius * other.__radius\n",
    "            return Circle(r)\n",
    "        else:\n",
    "            r = self.__radius * other\n",
    "            return Circle(r)\n",
    "    def __rmul__(self,other):\n",
    "        r = self.__radius * other\n",
    "        return Circle(r)\n",
    "    def radius(self):\n",
    "        return self.__radius\n",
    "    def diameter(self):\n",
    "        return 2*self.__radius\n"
   ]
  },
  {
   "cell_type": "markdown",
   "metadata": {},
   "source": [
    "## Modifying the `Geometry.py`.\n",
    "- Modify some classes, as necessary, such that they produce the output as shown in __Sample Run:__\n",
    "- Make sure that the `Circle` meets the following specifications.\n",
    "    - It has a private instance variable called `__radius`.\n",
    "    - It provides a method called `radius()` that returns its value of `__radius`.\n",
    "    \n",
    "__Sample Run:__\n",
    "```\n",
    "print(Point(1, 2))\n",
    "print(Circle(5))\n",
    "print(Circle(10).radius())\n",
    "print(Square(10))\n",
    "```\n",
    "__Expected Output:__\n",
    "```\n",
    "Point(1,2)\n",
    "Circle(5)\n",
    "10\n",
    "Square(10)\n",
    "```"
   ]
  },
  {
   "cell_type": "code",
   "execution_count": 114,
   "metadata": {},
   "outputs": [
    {
     "name": "stdout",
     "output_type": "stream",
     "text": [
      "Point(1, 2)\n",
      "Circle(5)\n",
      "10\n",
      "Square(10)\n"
     ]
    }
   ],
   "source": [
    "print(Point(1, 2))\n",
    "print(Circle(5))\n",
    "print(Circle(10).radius())\n",
    "print(Square(10))"
   ]
  },
  {
   "cell_type": "markdown",
   "metadata": {},
   "source": [
    "## For Point class, write some methods to make the test cases in __Sample Run__ work.\n",
    "\n",
    "__Sample Run:__\n",
    "```\n",
    "p1 = Point(3, 4)\n",
    "p2 = Point(5, 7)\n",
    "\n",
    "p5 = 2 * p1\n",
    "print(p5)\n",
    "\n",
    "p6 = p2 * 2\n",
    "print(p6)\n",
    "\n",
    "print(2 + p1)\n",
    "print(p2 + 2)\n",
    "\n",
    "print(p1 * p2)\n",
    "```\n",
    "__Expected Output:__\n",
    "```\n",
    "Point(6,8)\n",
    "Point(10,14)\n",
    "Point(5,6)\n",
    "Point(7,9)\n",
    "43\n",
    "```"
   ]
  },
  {
   "cell_type": "code",
   "execution_count": 115,
   "metadata": {},
   "outputs": [
    {
     "name": "stdout",
     "output_type": "stream",
     "text": [
      "Point(6, 8)\n",
      "Point(10, 14)\n",
      "Point(5, 6)\n",
      "Point(7, 9)\n",
      "43\n"
     ]
    }
   ],
   "source": [
    "p1 = Point(3, 4)\n",
    "p2 = Point(5, 7)\n",
    "\n",
    "p5 = 2 * p1\n",
    "print(p5)\n",
    "\n",
    "p6 = p2 * 2\n",
    "print(p6)\n",
    "\n",
    "print(2 + p1)\n",
    "print(p2 + 2)\n",
    "print(p1 * p2)"
   ]
  },
  {
   "cell_type": "markdown",
   "metadata": {},
   "source": [
    "## For Circle class, write some methods to make the test cases in __Sample Run__ work.\n",
    "\n",
    "__Sample Run:__\n",
    "```\n",
    "c1 = Circle(2)\n",
    "c2 = Circle(3)\n",
    "print(c1 + c2)\n",
    "print(c1 * c2)\n",
    "\n",
    "print(c1 * 2)\n",
    "print(2 * c2)\n",
    "\n",
    "print(3 + c1)\n",
    "print(c2 + 3)\n",
    "```\n",
    "__Expected Output:__\n",
    "```\n",
    "Circle(5)\n",
    "Circle(6)\n",
    "Circle(4)\n",
    "Circle(6)\n",
    "Circle(5)\n",
    "Circle(6)\n",
    "```"
   ]
  },
  {
   "cell_type": "code",
   "execution_count": 116,
   "metadata": {},
   "outputs": [
    {
     "name": "stdout",
     "output_type": "stream",
     "text": [
      "Circle(5)\n",
      "Circle(6)\n",
      "Circle(4)\n",
      "Circle(6)\n",
      "Circle(5)\n",
      "Circle(6)\n"
     ]
    }
   ],
   "source": [
    "c1 = Circle(2)\n",
    "c2 = Circle(3)\n",
    "print(c1 + c2)\n",
    "print(c1 * c2)\n",
    "\n",
    "print(c1 * 2)\n",
    "print(2 * c2)\n",
    "\n",
    "print(3 + c1)\n",
    "print(c2 + 3)"
   ]
  },
  {
   "cell_type": "markdown",
   "metadata": {},
   "source": [
    "## For Square class, write some methods to make the test cases in __Sample Run__ work.\n",
    "\n",
    "__Sample Run:__\n",
    "```\n",
    "s1 = Square(3)\n",
    "s2 = Square(4)\n",
    "print(s1)\n",
    "print(s2)\n",
    "\n",
    "s1 += 5\n",
    "s2 -= 2\n",
    "\n",
    "print(s1)\n",
    "print(s2)\n",
    "```\n",
    "__Expected Output:__\n",
    "```\n",
    "Square(3)\n",
    "Square(4)\n",
    "Square(8)\n",
    "Square(2)\n",
    "```"
   ]
  },
  {
   "cell_type": "code",
   "execution_count": 117,
   "metadata": {},
   "outputs": [
    {
     "name": "stdout",
     "output_type": "stream",
     "text": [
      "Square(3)\n",
      "Square(4)\n",
      "Square(8)\n",
      "Square(2)\n"
     ]
    }
   ],
   "source": [
    "s1 = Square(3)\n",
    "s2 = Square(4)\n",
    "print(s1)\n",
    "print(s2)\n",
    "\n",
    "s1 += 5\n",
    "s2 -= 2\n",
    "\n",
    "print(s1)\n",
    "print(s2)\n"
   ]
  },
  {
   "cell_type": "markdown",
   "metadata": {},
   "source": [
    "-------------------\n",
    "Happy Coding^^ __Congratulations!__\n",
    "\n",
    "Be joyful always! 1Thes.5:16"
   ]
  },
  {
   "cell_type": "code",
   "execution_count": null,
   "metadata": {},
   "outputs": [],
   "source": []
  }
 ],
 "metadata": {
  "kernelspec": {
   "display_name": "Python 3",
   "language": "python",
   "name": "python3"
  },
  "language_info": {
   "codemirror_mode": {
    "name": "ipython",
    "version": 3
   },
   "file_extension": ".py",
   "mimetype": "text/x-python",
   "name": "python",
   "nbconvert_exporter": "python",
   "pygments_lexer": "ipython3",
   "version": "3.8.5"
  },
  "toc-autonumbering": true,
  "toc-showcode": false,
  "toc-showmarkdowntxt": false
 },
 "nbformat": 4,
 "nbformat_minor": 5
}
