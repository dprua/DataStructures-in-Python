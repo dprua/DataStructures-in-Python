{
 "cells": [
  {
   "cell_type": "markdown",
   "metadata": {},
   "source": [
    "__Welcome to \"Data Structures in Python\"__    \n",
    "Lecture Notes by idebtor@gmail.com, Handong Global University\n",
    "\n",
    "# PSet 2A: Ch1-3 OOP \n",
    "\n",
    "Honor Code: \n",
    "\n",
    "## Define a class `Point`\n",
    "As you have learned during the OOP Lecture, you define `Point` class and its constructor. Then define additional functionalities to the class as you take the following exercises. "
   ]
  },
  {
   "cell_type": "code",
   "execution_count": 1,
   "metadata": {},
   "outputs": [],
   "source": [
    "#%%writefile Geometry.py\n",
    "\n",
    "class Point:\n",
    "    # your code here\n",
    "    def __init__(self,x,y):\n",
    "        self.x = x\n",
    "        self.y = y\n",
    "    def halfway(self,point):\n",
    "        a = (point.x + self.x) / 2\n",
    "        b = (point.y + self.y) / 2\n",
    "        return Point(a,b)\n",
    "    def midpoint(a,b):\n",
    "        return Point((a.x+b.x)/2,(a.y+b.y)/2)\n",
    "    def reflect_x(self):\n",
    "        return Point(self.x,-self.y)\n",
    "    def slope_to_origin(self):\n",
    "        dx = self.x - 0.0\n",
    "        dy = self.y - 0.0\n",
    "        return dy/dx\n",
    "    pass"
   ]
  },
  {
   "cell_type": "markdown",
   "metadata": {},
   "source": [
    "### Exercise 1 \n",
    "Write a method named `halfway(target)` which takes a Point as an argument and returns the halfway point between itself and the parameter Point.\n",
    "\n",
    "__Sample Run:__ \n",
    "\n",
    "```\n",
    "p = Point(3, 4)  \n",
    "q = Point(5, 12)  \n",
    "r = p.halfway(q)\n",
    "print(r.x, r.y)    \n",
    "\n",
    "4.0 8.0\n",
    "```"
   ]
  },
  {
   "cell_type": "code",
   "execution_count": 2,
   "metadata": {},
   "outputs": [
    {
     "name": "stdout",
     "output_type": "stream",
     "text": [
      "4.0 8.0\n"
     ]
    }
   ],
   "source": [
    "p = Point(3, 4)  \n",
    "q = Point(5, 12)  \n",
    "r = p.halfway(q)\n",
    "print(r.x, r.y)"
   ]
  },
  {
   "cell_type": "markdown",
   "metadata": {},
   "source": [
    "### Exercise 2 \n",
    "Write a method named `midpoint()` which takes two Points as arguments and returns the middle point between them. Define this method as a part of Point class even though it is possible to exist outside of the class. \n",
    "\n",
    "__Sample Run:__ \n",
    "```\n",
    "p = Point(3, 4)  \n",
    "q = Point(5, 12)\n",
    "r = Point.midpoint(p, q)\n",
    "print(r.x, r.y)   \n",
    "\n",
    "4.0 8.0\n",
    "```"
   ]
  },
  {
   "cell_type": "code",
   "execution_count": 3,
   "metadata": {},
   "outputs": [
    {
     "name": "stdout",
     "output_type": "stream",
     "text": [
      "4.0 8.0\n"
     ]
    }
   ],
   "source": [
    "p = Point(3, 4)  \n",
    "q = Point(5, 12)\n",
    "r = Point.midpoint(p, q)\n",
    "print(r.x, r.y)"
   ]
  },
  {
   "cell_type": "markdown",
   "metadata": {},
   "source": [
    "### Exercise 3\n",
    "Write a method named `reflect_x()` which returns a new Point, one which is the reflection of the point about the x-axis. For example, Point(3, 4).refIect_x() is (3, -4)\n",
    "\n",
    "__Sample Run:__ \n",
    "```\n",
    "p = Point(3, 4)  \n",
    "r = p.reflect_x()\n",
    "print(r.x, r.y)   \n",
    "\n",
    "3 -4\n",
    "```"
   ]
  },
  {
   "cell_type": "code",
   "execution_count": 4,
   "metadata": {},
   "outputs": [
    {
     "name": "stdout",
     "output_type": "stream",
     "text": [
      "3 -4\n"
     ]
    }
   ],
   "source": [
    "p = Point(3, 4)  \n",
    "r = p.reflect_x()\n",
    "print(r.x, r.y) "
   ]
  },
  {
   "cell_type": "markdown",
   "metadata": {},
   "source": [
    "### Exercise 4\n",
    "Write a method named `slope_to_origin()` which returns the slope of the line joining the origin to the point.  \n",
    "\n",
    "__Sample Run:__ \n",
    "```\n",
    "p = Point(4, 10)\n",
    "print(p.slope_to_origin())   \n",
    "\n",
    "2.5\n",
    "```"
   ]
  },
  {
   "cell_type": "code",
   "execution_count": 5,
   "metadata": {},
   "outputs": [
    {
     "name": "stdout",
     "output_type": "stream",
     "text": [
      "2.5\n"
     ]
    }
   ],
   "source": [
    "p = Point(4, 10)\n",
    "print(p.slope_to_origin()) "
   ]
  },
  {
   "cell_type": "markdown",
   "metadata": {},
   "source": [
    "### Save the `Point` class you defined above in a file called `Geometry.py`. \n",
    "\n",
    "- Use the cell magic commands, `%%writefile` or `%%writefile -a`, to write a cell contents to a file.  \n",
    "- These cell magic should be placed at the first line of the cell.\n",
    "- The file will be created or overwritten when the cell is executed. \n",
    "- The cell magic command line should be commented out after its execution.\n",
    "\n",
    "This step should be done at the cell that defines the `Point` class.\n",
    "\n",
    "### Load `Geometry.py` \n",
    "\n",
    "Now, load `Geometry.py' back to the following code cell. \n",
    "- Use `%load` magic command.\n"
   ]
  },
  {
   "cell_type": "code",
   "execution_count": 6,
   "metadata": {},
   "outputs": [],
   "source": [
    "# %load Geometry.py\n",
    "\n",
    "class Point:\n",
    "    # your code here\n",
    "    def __init__(self,x,y):\n",
    "        self.x = x\n",
    "        self.y = y\n",
    "    def halfway(self,point):\n",
    "        a = (point.x + self.x) / 2\n",
    "        b = (point.y + self.y) / 2\n",
    "        return Point(a,b)\n",
    "    def midpoint(a,b):\n",
    "        return Point((a.x+b.x)/2,(a.y+b.y)/2)\n",
    "    def reflect_x(self):\n",
    "        return Point(self.x,-self.y)\n",
    "    def slope_to_origin(self):\n",
    "        dx = self.x - 0.0\n",
    "        dy = self.y - 0.0\n",
    "        return dy/dx\n",
    "    pass\n"
   ]
  },
  {
   "cell_type": "markdown",
   "metadata": {},
   "source": [
    "Now, run a simple test of the `Point` class.\n",
    "\n",
    "__Sample Run__:\n",
    "```\n",
    "p = Point(1, 2)\n",
    "print(p.x, p.y)\n",
    "\n",
    "1 2\n",
    "```"
   ]
  },
  {
   "cell_type": "code",
   "execution_count": 7,
   "metadata": {},
   "outputs": [
    {
     "name": "stdout",
     "output_type": "stream",
     "text": [
      "1 2\n"
     ]
    }
   ],
   "source": [
    "p = Point(1, 2)\n",
    "print(p.x, p.y)"
   ]
  },
  {
   "cell_type": "markdown",
   "metadata": {},
   "source": [
    "## Define a `Square` class \n",
    "\n",
    "Define a class `Square` and its constructor. Then define additional functionalities to the class as you take the following exercises. "
   ]
  },
  {
   "cell_type": "code",
   "execution_count": 8,
   "metadata": {},
   "outputs": [],
   "source": [
    "#%%writefile -a Geometry.py\n",
    "\n",
    "class Square:\n",
    "    def __init__(self,line):\n",
    "        self.line = line\n",
    "    def perimeter(self):\n",
    "        return 4*self.line\n",
    "    def area(self):\n",
    "        return self.line * self.line"
   ]
  },
  {
   "cell_type": "markdown",
   "metadata": {},
   "source": [
    "### Exercise 5\n",
    "Define a class that will be used to represent a square with a given `side` length in `Geometry.py`. Add two methods to the class to calculate the perimeter and the area of the square, respectively.\n",
    "\n",
    "__Sample Run:__ \n",
    "```\n",
    "s = Square(10)\n",
    "print(s.perimeter())\n",
    "print(s.area())\n",
    "\n",
    "40\n",
    "100\n",
    "```"
   ]
  },
  {
   "cell_type": "code",
   "execution_count": 9,
   "metadata": {},
   "outputs": [
    {
     "name": "stdout",
     "output_type": "stream",
     "text": [
      "40\n",
      "100\n"
     ]
    }
   ],
   "source": [
    "s = Square(10)\n",
    "print(s.perimeter())\n",
    "print(s.area())"
   ]
  },
  {
   "cell_type": "markdown",
   "metadata": {},
   "source": [
    "### Append the `Square` class you defined above in a file called `Geometry.py`. \n",
    "\n",
    "- Use the cell magic commands, `%%writefile` or `%%writefile -a`, to write a cell contents to a file.  \n",
    "\n",
    "This step should be done at the cell that defines the `Square` class."
   ]
  },
  {
   "cell_type": "markdown",
   "metadata": {},
   "source": [
    "## Define a `Circle` class \n",
    "\n",
    "Define a class `Circle` and its constructor. Then define additional functionalities to the class as you take the following exercises. \n"
   ]
  },
  {
   "cell_type": "code",
   "execution_count": 10,
   "metadata": {},
   "outputs": [],
   "source": [
    "#%%writefile -a Geometry.py\n",
    "\n",
    "class Circle:\n",
    "    def __init__(self,r=0):\n",
    "        self.r = r\n",
    "    def radius(self):\n",
    "        return self.r\n",
    "    def diameter(self):\n",
    "        return 2*self.r"
   ]
  },
  {
   "cell_type": "markdown",
   "metadata": {},
   "source": [
    "### Exercise 6\n",
    "Define a class `Circle` that will be used to represent a circle with a given radius in `Geometry.py`. \n",
    "- Define the radius of the circle to be private to prevent data from being tampered with and to make the class easy to maintain!\n",
    "- Make the circle with default values 0 for the radius. This enables the user to instantiate a circle like `c = Circle()`.\n",
    "- Define two methods to the class to return the radius and the diameter, respectively.\n",
    "\n",
    "__Sample Run:__ \n",
    "```\n",
    "s = Circle(10)\n",
    "print(s.radius())\n",
    "print(s.diameter())\n",
    "print(Circle().radius())\n",
    "10\n",
    "20\n",
    "0\n",
    "```"
   ]
  },
  {
   "cell_type": "code",
   "execution_count": 11,
   "metadata": {},
   "outputs": [
    {
     "name": "stdout",
     "output_type": "stream",
     "text": [
      "10\n",
      "20\n",
      "0\n"
     ]
    }
   ],
   "source": [
    "s = Circle(10)\n",
    "print(s.radius())\n",
    "print(s.diameter())\n",
    "print(Circle().radius())"
   ]
  },
  {
   "cell_type": "markdown",
   "metadata": {},
   "source": [
    "### Load `Geometry.py` \n",
    "\n",
    "Now, load `Geometry.py` back to the following code cell and you should see all three classes once.\n",
    "- Use `%load` magic command."
   ]
  },
  {
   "cell_type": "code",
   "execution_count": 12,
   "metadata": {},
   "outputs": [],
   "source": [
    "# %load Geometry.py\n",
    "\n",
    "class Point:\n",
    "    # your code here\n",
    "    def __init__(self,x,y):\n",
    "        self.x = x\n",
    "        self.y = y\n",
    "    def halfway(self,point):\n",
    "        a = (point.x + self.x) / 2\n",
    "        b = (point.y + self.y) / 2\n",
    "        return Point(a,b)\n",
    "    def midpoint(a,b):\n",
    "        return Point((a.x+b.x)/2,(a.y+b.y)/2)\n",
    "    def reflect_x(self):\n",
    "        return Point(self.x,-self.y)\n",
    "    def slope_to_origin(self):\n",
    "        dx = self.x - 0.0\n",
    "        dy = self.y - 0.0\n",
    "        return dy/dx\n",
    "    pass\n",
    "\n",
    "class Square:\n",
    "    def __init__(self,line):\n",
    "        self.line = line\n",
    "    def perimeter(self):\n",
    "        return 4*self.line\n",
    "    def area(self):\n",
    "        return self.line * self.line\n",
    "\n",
    "class Circle:\n",
    "    def __init__(self,r=0):\n",
    "        self.r = r\n",
    "    def radius(self):\n",
    "        return self.r\n",
    "    def diameter(self):\n",
    "        return 2*self.r\n"
   ]
  },
  {
   "cell_type": "markdown",
   "metadata": {},
   "source": [
    "Now, run a simple test of the `Point` and `Square` classes.\n",
    "\n",
    "__Sample Run__:\n",
    "```\n",
    "p = Point(1, 2)\n",
    "print(p.x, p.y)\n",
    "q = Square(10)\n",
    "print(q.area())\n",
    "c = circle(10)\n",
    "print(c.radius())\n",
    "\n",
    "1 2\n",
    "100\n",
    "10\n",
    "```"
   ]
  },
  {
   "cell_type": "code",
   "execution_count": 13,
   "metadata": {},
   "outputs": [
    {
     "name": "stdout",
     "output_type": "stream",
     "text": [
      "1 2\n",
      "100\n",
      "10\n"
     ]
    }
   ],
   "source": [
    "p = Point(1, 2)\n",
    "print(p.x, p.y)\n",
    "q = Square(10)\n",
    "print(q.area())\n",
    "c = Circle(10)\n",
    "print(c.radius())"
   ]
  },
  {
   "cell_type": "markdown",
   "metadata": {},
   "source": [
    "## (FYI) A few different ways of importing a module \n",
    "\n",
    "There are a few different ways of importing a module. For example, \n",
    "\n",
    "1. ```from Geometry import Point```   \n",
    "    - This imports a specific class `Point` in `Geometry.py` module.  \n",
    "    - You may use the class `Point` such as `p = Point(1, 2)`   \n",
    "1. ```import Geometry```   \n",
    "    - This imports all things defined in `Geometry.py` module.\n",
    "    - You must specify the name of the module to use it such as `p = Geometry.Point(1, 2)`\n",
    "1. ```import Geometry as gm```\n",
    "    - It just simplify the way of calling the module. \n",
    "    - For example, `p = gm.Point(1, 2)`"
   ]
  },
  {
   "cell_type": "markdown",
   "metadata": {},
   "source": [
    "## Exercise three different ways of importing a module\n",
    "\n",
    "Execute the following code snippet using three different ways of the importing the module, `Geometry.py`. You may add statements and/or modify the following script if necessay. \n",
    "\n",
    "To do this step properly, we must check `Point` and `Square` definitions since we may still have them in memory. If they are still valid, we need to nullify them first. Then we may import the module and test it properly. \n",
    "\n",
    "__Sample Run:__\n",
    "```\n",
    "a = Point(4, 10)\n",
    "b = Point(8, 10)\n",
    "c = a.halfway(b)\n",
    "print(c.x, c.y)\n",
    "r = a.reflect_x()\n",
    "print(r.x, r.y)\n",
    "print(r.slope_to_origin())\n",
    "\n",
    "b = Square(10)\n",
    "print(b.perimeter())\n",
    "print(b.area())\n",
    "\n",
    "c = Circle(10)\n",
    "print(c.diameter())\n",
    "print(Circle().radius())\n",
    "```\n",
    "__Run Results:__\n",
    "```\n",
    "6.0 10.0\n",
    "4 -10\n",
    "-2.5\n",
    "40\n",
    "100\n",
    "20\n",
    "0\n",
    "```"
   ]
  },
  {
   "cell_type": "code",
   "execution_count": 14,
   "metadata": {},
   "outputs": [
    {
     "name": "stdout",
     "output_type": "stream",
     "text": [
      "6.0 10.0\n",
      "4 -10\n",
      "-2.5\n",
      "40\n",
      "100\n",
      "20\n",
      "0\n"
     ]
    }
   ],
   "source": [
    "a = Point(4, 10)\n",
    "b = Point(8, 10)\n",
    "c = a.halfway(b)\n",
    "print(c.x, c.y)\n",
    "r = a.reflect_x()\n",
    "print(r.x, r.y)\n",
    "print(r.slope_to_origin())\n",
    "\n",
    "b = Square(10)\n",
    "print(b.perimeter())\n",
    "print(b.area())\n",
    "\n",
    "c = Circle(10)\n",
    "print(c.diameter())\n",
    "print(Circle().radius())"
   ]
  },
  {
   "cell_type": "markdown",
   "metadata": {},
   "source": [
    "__(FYI) Nullify definitions of `Point` and `Square` if necessary.__ "
   ]
  },
  {
   "cell_type": "code",
   "execution_count": 15,
   "metadata": {},
   "outputs": [
    {
     "name": "stdout",
     "output_type": "stream",
     "text": [
      "Point class is defined. Now nullify it.\n",
      "Square class is defined. Now nullify it.\n"
     ]
    }
   ],
   "source": [
    "try:\n",
    "    Point\n",
    "except NameError:\n",
    "    print(\"Point class has not been defined after all!\")\n",
    "else:\n",
    "    print(\"Point class is defined. Now nullify it.\")\n",
    "    del Point\n",
    "    \n",
    "try:\n",
    "    Square\n",
    "except NameError:\n",
    "    print(\"Square class has not been defined after all!\")\n",
    "else:\n",
    "    print(\"Square class is defined. Now nullify it.\")\n",
    "    del Square"
   ]
  },
  {
   "cell_type": "markdown",
   "metadata": {},
   "source": [
    "### Using ```from Geometry ... ```   "
   ]
  },
  {
   "cell_type": "code",
   "execution_count": 16,
   "metadata": {},
   "outputs": [
    {
     "name": "stdout",
     "output_type": "stream",
     "text": [
      "6.0 10.0\n",
      "4 -10\n",
      "-2.5\n",
      "40\n",
      "100\n",
      "20\n",
      "0\n"
     ]
    }
   ],
   "source": [
    "from Geometry import Point,Square,Circle\n",
    "\n",
    "a = Point(4, 10)\n",
    "b = Point(8, 10)\n",
    "c = a.halfway(b)\n",
    "print(c.x, c.y)\n",
    "r = a.reflect_x()\n",
    "print(r.x, r.y)\n",
    "print(r.slope_to_origin())\n",
    "\n",
    "b = Square(10)\n",
    "print(b.perimeter())\n",
    "print(b.area())\n",
    "\n",
    "c = Circle(10)\n",
    "print(c.diameter())\n",
    "print(Circle().radius())"
   ]
  },
  {
   "cell_type": "markdown",
   "metadata": {},
   "source": [
    "### Using ```import Geometry```   "
   ]
  },
  {
   "cell_type": "code",
   "execution_count": 17,
   "metadata": {},
   "outputs": [
    {
     "name": "stdout",
     "output_type": "stream",
     "text": [
      "6.0 10.0\n",
      "4 -10\n",
      "-2.5\n",
      "40\n",
      "100\n",
      "20\n",
      "0\n"
     ]
    }
   ],
   "source": [
    "import Geometry\n",
    "\n",
    "a = Geometry.Point(4, 10)\n",
    "b = Geometry.Point(8, 10)\n",
    "c = a.halfway(b)\n",
    "print(c.x, c.y)\n",
    "r = a.reflect_x()\n",
    "print(r.x, r.y)\n",
    "print(r.slope_to_origin())\n",
    "\n",
    "b = Geometry.Square(10)\n",
    "print(b.perimeter())\n",
    "print(b.area())\n",
    "\n",
    "c = Geometry.Circle(10)\n",
    "print(c.diameter())\n",
    "print(Circle().radius())"
   ]
  },
  {
   "cell_type": "markdown",
   "metadata": {},
   "source": [
    "### Using ```import Geometry as gm```"
   ]
  },
  {
   "cell_type": "code",
   "execution_count": 18,
   "metadata": {},
   "outputs": [
    {
     "name": "stdout",
     "output_type": "stream",
     "text": [
      "6.0 10.0\n",
      "4 -10\n",
      "-2.5\n",
      "40\n",
      "100\n",
      "20\n",
      "0\n"
     ]
    }
   ],
   "source": [
    "import Geometry as gm\n",
    "\n",
    "a = gm.Point(4, 10)\n",
    "b = gm.Point(8, 10)\n",
    "c = a.halfway(b)\n",
    "print(c.x, c.y)\n",
    "r = a.reflect_x()\n",
    "print(r.x, r.y)\n",
    "print(r.slope_to_origin())\n",
    "\n",
    "b = gm.Square(10)\n",
    "print(b.perimeter())\n",
    "print(b.area())\n",
    "\n",
    "c = gm.Circle(10)\n",
    "print(c.diameter())\n",
    "print(Circle().radius())"
   ]
  },
  {
   "cell_type": "markdown",
   "metadata": {},
   "source": [
    "## The final test step\n",
    "\n",
    "1. Comment out some magic commands in the code cells above.\n",
    "1. Execute the following command (double arrows in the menubar) or in the `Kernel` menu , then you should see all cells go through successfully.\n",
    "    - ```Restart Kernel and Run All Cells... ```\n",
    "1. Congratulations! "
   ]
  },
  {
   "cell_type": "markdown",
   "metadata": {},
   "source": [
    "# PSet 2B: Ch1-4 OOP Fraction\n",
    "\n",
    "Honor Code: \n",
    "\n",
    "## Load `Geometry.py` and define `__str__` and `__repr__` methods for `Point`, `Square` and 'Circle`."
   ]
  },
  {
   "cell_type": "code",
   "execution_count": 19,
   "metadata": {},
   "outputs": [],
   "source": [
    "# %load Geometry.py\n",
    "\n",
    "class Point:\n",
    "    # your code here\n",
    "    def __init__(self,x,y):\n",
    "        self.x = x\n",
    "        self.y = y\n",
    "    def __str__(self):\n",
    "        return 'A point at ({}, {})'.format(self.x, self.y)\n",
    "    def __repr__(self):\n",
    "        return 'Point({}, {})'.format(self.x, self.y)\n",
    "    def halfway(self,point):\n",
    "        a = (point.x + self.x) / 2\n",
    "        b = (point.y + self.y) / 2\n",
    "        return Point(a,b)\n",
    "    def midpoint(a,b):\n",
    "        return Point((a.x+b.x)/2,(a.y+b.y)/2)\n",
    "    def reflect_x(self):\n",
    "        return Point(self.x,-self.y)\n",
    "    def slope_to_origin(self):\n",
    "        dx = self.x - 0.0\n",
    "        dy = self.y - 0.0\n",
    "        return dy/dx\n",
    "    pass\n",
    "\n",
    "class Square:\n",
    "    def __init__(self,line):\n",
    "        self.line = line\n",
    "    def __str__(self):\n",
    "        return '{} x {} Square'.format(self.line, self.line)\n",
    "    def __repr__(self):\n",
    "        return 'Square({})'.format(self.line)\n",
    "    def perimeter(self):\n",
    "        return 4*self.line\n",
    "    def area(self):\n",
    "        return self.line * self.line\n",
    "\n",
    "class Circle:\n",
    "    def __init__(self,r=0):\n",
    "        self.r = r\n",
    "    def __str__(self):\n",
    "        return 'A circle with a radius of {}cm'.format(self.r)\n",
    "    def __repr__(self):\n",
    "        return 'Circle({})'.format(self.r)\n",
    "    def radius(self):\n",
    "        return self.r\n",
    "    def diameter(self):\n",
    "        return 2*self.r\n"
   ]
  },
  {
   "cell_type": "markdown",
   "metadata": {},
   "source": [
    "## Test `__str__` and `__repr__` methods for three classes, respectively, as shown below:"
   ]
  },
  {
   "cell_type": "markdown",
   "metadata": {},
   "source": [
    "__Sample Run for Point:__\n",
    "```\n",
    "p = Point(1, 2)\n",
    "print(p)\n",
    "print(str(p))\n",
    "print(p.__repr__())\n",
    "print(repr(p))\n",
    "\n",
    "A point at (1, 2)\n",
    "A point at (1, 2)\n",
    "Point(1, 2)\n",
    "Point(1, 2)\n",
    "```"
   ]
  },
  {
   "cell_type": "code",
   "execution_count": 20,
   "metadata": {},
   "outputs": [
    {
     "name": "stdout",
     "output_type": "stream",
     "text": [
      "A point at (1, 2)\n",
      "A point at (1, 2)\n",
      "Point(1, 2)\n",
      "Point(1, 2)\n"
     ]
    }
   ],
   "source": [
    "p = Point(1, 2)\n",
    "print(p)\n",
    "print(str(p))\n",
    "print(p.__repr__())\n",
    "print(repr(p))"
   ]
  },
  {
   "cell_type": "markdown",
   "metadata": {},
   "source": [
    "__Sample Run for Square:__\n",
    "```\n",
    "s = Square(10)\n",
    "print(s)\n",
    "print(str(s))\n",
    "print(s.__repr__())\n",
    "print(repr(s))\n",
    "\n",
    "10 x 10 Square\n",
    "10 x 10 Square\n",
    "Square(10)\n",
    "Square(10)\n",
    "```"
   ]
  },
  {
   "cell_type": "code",
   "execution_count": 21,
   "metadata": {},
   "outputs": [
    {
     "name": "stdout",
     "output_type": "stream",
     "text": [
      "10 x 10 Square\n",
      "10 x 10 Square\n",
      "Square(10)\n",
      "Square(10)\n"
     ]
    }
   ],
   "source": [
    "s = Square(10)\n",
    "print(s)\n",
    "print(str(s))\n",
    "print(s.__repr__())\n",
    "print(repr(s))"
   ]
  },
  {
   "cell_type": "markdown",
   "metadata": {},
   "source": [
    "__Sample Run for Circle:__\n",
    "```\n",
    "c = Circle(10)\n",
    "print(c)\n",
    "print(str(c))\n",
    "print(c.__repr__())\n",
    "print(repr(c))\n",
    "\n",
    "A circle with a radius of 10cm\n",
    "A circle with a radius of 10cm\n",
    "Circle(10)\n",
    "Circle(10)\n",
    "```"
   ]
  },
  {
   "cell_type": "code",
   "execution_count": 22,
   "metadata": {},
   "outputs": [
    {
     "name": "stdout",
     "output_type": "stream",
     "text": [
      "A circle with a radius of 10cm\n",
      "A circle with a radius of 10cm\n",
      "Circle(10)\n",
      "Circle(10)\n"
     ]
    }
   ],
   "source": [
    "c = Circle(10)\n",
    "print(c)\n",
    "print(str(c))\n",
    "print(c.__repr__())\n",
    "print(repr(c))"
   ]
  },
  {
   "cell_type": "markdown",
   "metadata": {},
   "source": [
    "--------------\n",
    "Be joyful always! 1 Thessalonians 5:16-18 "
   ]
  },
  {
   "cell_type": "markdown",
   "metadata": {},
   "source": [
    "--------------\n",
    "Be joyful always! 1 Thessalonians 5:16-18 "
   ]
  },
  {
   "cell_type": "code",
   "execution_count": null,
   "metadata": {},
   "outputs": [],
   "source": []
  }
 ],
 "metadata": {
  "kernelspec": {
   "display_name": "Python 3",
   "language": "python",
   "name": "python3"
  },
  "language_info": {
   "codemirror_mode": {
    "name": "ipython",
    "version": 3
   },
   "file_extension": ".py",
   "mimetype": "text/x-python",
   "name": "python",
   "nbconvert_exporter": "python",
   "pygments_lexer": "ipython3",
   "version": "3.8.5"
  },
  "toc-autonumbering": true,
  "toc-showcode": false,
  "toc-showmarkdowntxt": false
 },
 "nbformat": 4,
 "nbformat_minor": 5
}
